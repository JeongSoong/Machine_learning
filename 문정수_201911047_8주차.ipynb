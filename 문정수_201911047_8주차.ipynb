{
  "nbformat": 4,
  "nbformat_minor": 0,
  "metadata": {
    "colab": {
      "private_outputs": true,
      "provenance": [],
      "gpuType": "T4",
      "authorship_tag": "ABX9TyNfYgGjnvEcXf9WgQu196yy",
      "include_colab_link": true
    },
    "kernelspec": {
      "name": "python3",
      "display_name": "Python 3"
    },
    "language_info": {
      "name": "python"
    },
    "accelerator": "GPU",
    "gpuClass": "standard"
  },
  "cells": [
    {
      "cell_type": "markdown",
      "metadata": {
        "id": "view-in-github",
        "colab_type": "text"
      },
      "source": [
        "<a href=\"https://colab.research.google.com/github/JeongSoong/Machine_learning/blob/main/%EB%AC%B8%EC%A0%95%EC%88%98_201911047_8%EC%A3%BC%EC%B0%A8.ipynb\" target=\"_parent\"><img src=\"https://colab.research.google.com/assets/colab-badge.svg\" alt=\"Open In Colab\"/></a>"
      ]
    },
    {
      "cell_type": "code",
      "execution_count": null,
      "metadata": {
        "id": "9eL6YZmJ87X6"
      },
      "outputs": [],
      "source": [
        "import tensorflow as tf\n",
        "import matplotlib.pyplot as plt"
      ]
    },
    {
      "cell_type": "code",
      "source": [
        "mnist = tf.keras.datasets.mnist\n",
        "(x_train,y_train),(x_valid,y_valid) = mnist.load_data()\n",
        "\n",
        "def plot_image(data, idx):\n",
        "    plt.figure(figsize = (5,5))\n",
        "    plt.imshow(data[idx], cmap = 'gray')\n",
        "    plt.axis('off')\n",
        "    plt.show()\n",
        "plot_image(x_train, 0)"
      ],
      "metadata": {
        "id": "a3gM-4Ac9lhG"
      },
      "execution_count": null,
      "outputs": []
    },
    {
      "cell_type": "code",
      "source": [
        "print(x_train.min(), x_train.max())\n",
        "print(x_valid.min(), x_valid.max())"
      ],
      "metadata": {
        "id": "WXT3uASp-GUR"
      },
      "execution_count": null,
      "outputs": []
    },
    {
      "cell_type": "code",
      "source": [
        "##정규화 실시\n",
        "x_train = x_train/x_train.max()\n",
        "x_valid = x_valid/x_valid.max()"
      ],
      "metadata": {
        "id": "B-XIBi1i-cNv"
      },
      "execution_count": null,
      "outputs": []
    },
    {
      "cell_type": "code",
      "source": [
        "print(x_train.min(), x_train.max())\n",
        "print(x_valid.min(), x_valid.max())"
      ],
      "metadata": {
        "id": "MRdnDK0H-lE_"
      },
      "execution_count": null,
      "outputs": []
    },
    {
      "cell_type": "code",
      "source": [
        "x_train.shape"
      ],
      "metadata": {
        "id": "H__HP6LF-2Qp"
      },
      "execution_count": null,
      "outputs": []
    },
    {
      "cell_type": "code",
      "source": [
        "##마지막에 흑백 생상 채널 추가\n",
        "x_train_in = x_train[..., tf.newaxis]\n",
        "x_valid_in = x_valid[..., tf.newaxis]\n",
        "print(x_train_in.shape, x_valid_in.shape)"
      ],
      "metadata": {
        "id": "p-nEaoLZ-vKy"
      },
      "execution_count": null,
      "outputs": []
    },
    {
      "cell_type": "code",
      "source": [
        "##Conv20, kernal : 3X3, name: 레이어 이름 conv, 활성화함수: ReLu\n",
        "model = tf.keras.Sequential([\n",
        "    tf.keras.layers.Conv2D(32,(3,3), activation = 'relu', input_shape = (28,28,1),name = 'conv'),\n",
        "    tf.keras.layers.MaxPool2D((2,2), name = 'pool'),\n",
        "    tf.keras.layers.Flatten(),\n",
        "    tf.keras.layers.Dense(10,activation = 'softmax')\n",
        "])"
      ],
      "metadata": {
        "id": "xAaXhvIG_cDT"
      },
      "execution_count": null,
      "outputs": []
    },
    {
      "cell_type": "code",
      "source": [
        "model.compile(optimizer='adam',\n",
        "                    loss = 'sparse_categorical_crossentropy',\n",
        "                    metrics=['accuracy'])\n",
        "history = model.fit(x_train,y_train, validation_data = (x_valid, y_valid), epochs = 10)"
      ],
      "metadata": {
        "id": "jpnlocI_Apvi"
      },
      "execution_count": null,
      "outputs": []
    },
    {
      "cell_type": "code",
      "source": [
        "model.summary()"
      ],
      "metadata": {
        "id": "NVBhqc39B5O1"
      },
      "execution_count": null,
      "outputs": []
    },
    {
      "cell_type": "code",
      "source": [
        "model.evaluate(x_valid_in, y_valid)"
      ],
      "metadata": {
        "id": "DyGREUzsB7y6"
      },
      "execution_count": null,
      "outputs": []
    },
    {
      "cell_type": "code",
      "source": [
        "loss, val_loss = history.history['loss'], history.history['val_loss']\n",
        "acc, val_acc = history.history['accuracy'], history.history['val_accuracy']\n",
        "epoch = 10\n",
        "fig, axes = plt.subplots(1,2,figsize = (12,4))\n",
        "axes[0].plot(range(1, epoch+1), loss, label = 'Training')\n",
        "axes[0].plot(range(1, epoch+1), val_loss, label = 'Validation')\n",
        "axes[0].legend(loc = 'best')\n",
        "axes[0].set_title('Loss')\n",
        "\n",
        "axes[1].plot(range(1, epoch+1), acc, label = 'Training')\n",
        "axes[1].plot(range(1, epoch+1), val_acc, label = 'Validation')\n",
        "axes[1].legend(loc = 'best')\n",
        "axes[1].set_title('Accuracy')\n",
        "\n",
        "plt.show()"
      ],
      "metadata": {
        "id": "TdpNeXGUCMn_"
      },
      "execution_count": null,
      "outputs": []
    },
    {
      "cell_type": "markdown",
      "source": [
        "모델 구조 파악\n",
        "\n",
        "\n",
        "1.   입력형태(28,28,1)\n",
        "2.   출력형태(10)\n",
        "3.   첫번쨰 레이어: 합성곱 Conv2D, 가중치(weight)(3,3,1,32)3332=280개, 상수항(bias)32/output(26,26,1,32)\n",
        "4.   두번째 레이어: Pooling(26,26,1,32)\n",
        "5.   세번째 레이어: 1차 배열로 변화\n",
        "6.   네번째 레이어: 출력\n",
        "\n"
      ],
      "metadata": {
        "id": "zrHVDmjtESvk"
      }
    },
    {
      "cell_type": "code",
      "source": [
        "##각 층에 대한 정보\n",
        "model.layers"
      ],
      "metadata": {
        "id": "S6voMAiLEK9p"
      },
      "execution_count": null,
      "outputs": []
    },
    {
      "cell_type": "code",
      "source": [
        "##첫번째 레이어(Conv2D) 가중치: 3*3*32 = 280개\n",
        "model.layers[0].weights"
      ],
      "metadata": {
        "id": "tlc4pBadFAUI"
      },
      "execution_count": null,
      "outputs": []
    },
    {
      "cell_type": "code",
      "source": [
        "##첫번째 레이어(Conv2D) 상수항: 32개\n",
        "model.layers[0].bias"
      ],
      "metadata": {
        "id": "iXY2OYBHFQeV"
      },
      "execution_count": null,
      "outputs": []
    },
    {
      "cell_type": "code",
      "source": [
        "##첫번쨰 레이어의 커널 가중치\n",
        "model.layers[0].kernel"
      ],
      "metadata": {
        "id": "lNjGMEqmFYOE"
      },
      "execution_count": null,
      "outputs": []
    },
    {
      "cell_type": "code",
      "source": [
        "model.layers[0].bias"
      ],
      "metadata": {
        "id": "dIRkr-PBFeQh"
      },
      "execution_count": null,
      "outputs": []
    },
    {
      "cell_type": "code",
      "source": [
        "##Conv2D 레이어 이름으로 소환하기\n",
        "model.get_layer('conv')"
      ],
      "metadata": {
        "id": "RITsaLnWFg2t"
      },
      "execution_count": null,
      "outputs": []
    },
    {
      "cell_type": "code",
      "source": [
        "##Conv2D와 Pooling 레이어의 output(이미지) 출력\n",
        "##모델 만들기: tf.keras.Model(입력 = 입력 데이터, 출력 = 첫번째, 두번째 층의 출력력)\n",
        "##모델 예측: 모델명.predict()\n",
        "activator = tf.keras.Model(inputs=model.input,outputs = [layer.output for layer in model.layers[:2]])"
      ],
      "metadata": {
        "id": "kexeKx3BFtpu"
      },
      "execution_count": null,
      "outputs": []
    },
    {
      "cell_type": "code",
      "source": [
        "##입력데이터 첫번째 5에 대해 출력\n",
        "activations = activator.predict(x_train_in[0][tf.newaxis, ...])\n",
        "len(activations)\n",
        "##Conv2D층과 Pooling층의 output이므로 '2'라는 결과"
      ],
      "metadata": {
        "id": "NLK6JylGHCH5"
      },
      "execution_count": null,
      "outputs": []
    },
    {
      "cell_type": "code",
      "source": [
        "##activations[0]\n",
        "conv = activations[0]\n",
        "conv.shape"
      ],
      "metadata": {
        "id": "rbY6aQ69HEue"
      },
      "execution_count": null,
      "outputs": []
    },
    {
      "cell_type": "code",
      "source": [
        "##'5'의 첫번째 Conv2D를 통과한 32개 kernel별 특성맵 시각화\n",
        "## Convolution 시각화\n",
        "fig, axes = plt.subplots(4,8)\n",
        "fig.set_size_inches(10, 5)\n",
        "\n",
        "for i in range(32):\n",
        "    ax = axes[i//8, i%8]\n",
        "    ax.imshow(conv[0, :, :, i], cmap = 'viridis')\n",
        "    ax.set_title('kernel %s'%str(i), fontsize=10)\n",
        "    plt.setp( axes[i//8, i%8].get_xticklabels(), visible=False)\n",
        "    plt.setp( axes[i//8, i%8].get_yticklabels(), visible=False)\n",
        "\n",
        "plt.tight_layout()\n",
        "plt.show()"
      ],
      "metadata": {
        "id": "ZbksJYCIHgjz"
      },
      "execution_count": null,
      "outputs": []
    },
    {
      "cell_type": "code",
      "source": [
        "#activations[1]\n",
        "pooling = activations[1]\n",
        "pooling.shape"
      ],
      "metadata": {
        "id": "awFQqbCXI3r1"
      },
      "execution_count": null,
      "outputs": []
    },
    {
      "cell_type": "code",
      "source": [
        "##'5'의 두번째 Pooling을 통과한 32개 kernel별 특성맵 시각화\n",
        "#pooling 시각화\n",
        "fig, axes = plt.subplots(4,8)\n",
        "fig.set_size_inches(10, 5)\n",
        "\n",
        "for i in range(32):\n",
        "    ax = axes[i//8, i%8]\n",
        "    ax.imshow(conv[0, :, :, i], cmap = 'viridis')\n",
        "    ax.set_title('kernel %s'%str(i), fontsize=10)\n",
        "    plt.setp( axes[i//8, i%8].get_xticklabels(), visible=False)\n",
        "    plt.setp( axes[i//8, i%8].get_yticklabels(), visible=False)\n",
        "\n",
        "plt.tight_layout()\n",
        "plt.show()"
      ],
      "metadata": {
        "id": "aJ_7xFaYJAUV"
      },
      "execution_count": null,
      "outputs": []
    },
    {
      "cell_type": "code",
      "source": [
        "import tensorflow as tf\n",
        "import tensorflow_hub as tfhub"
      ],
      "metadata": {
        "id": "n-6U6qCzJgZS"
      },
      "execution_count": null,
      "outputs": []
    },
    {
      "cell_type": "code",
      "source": [
        "img_path = 'https://upload.wikimedia.org/wikipedia/commons/thumb/c/c4/Gangnam_Seoul_January_2009.jpg/1280px-Gangnam_Seoul_January_2009.jpg'\n",
        "img = tf.keras.utils.get_file(fname='gangnam', origin = img_path)\n",
        "img = tf.io.read_file(img)  #파일 객체를 string으로 변환\n",
        "img = tf.image.decode_jpeg(img, channels=3)  #문자(string)를 숫자(unit8)텐서로 변환\n",
        "img = tf.image.convert_image_dtype(img, tf.float32)  #0~1 범위로 정규화\n",
        "\n",
        "import matplotlib.pylab as plt\n",
        "plt.figure(figsize=(15, 10))\n",
        "plt.imshow(img)"
      ],
      "metadata": {
        "id": "iWYBbcSDKjFn"
      },
      "execution_count": null,
      "outputs": []
    },
    {
      "cell_type": "code",
      "source": [
        "img.shape"
      ],
      "metadata": {
        "id": "OOZCe4MQLt5F"
      },
      "execution_count": null,
      "outputs": []
    },
    {
      "cell_type": "code",
      "source": [
        "img_input = tf.expand_dims(img, 0) #batch_size추가, 4차원 텐서로 입력\n",
        "img_input.shape"
      ],
      "metadata": {
        "id": "JJbmb0NCLvZ5"
      },
      "execution_count": null,
      "outputs": []
    },
    {
      "cell_type": "code",
      "source": [
        "##TensorFlow Hub에서 모델 가져오기 - FasterRCNN+InceptionResNet V2\n",
        "model = tfhub.load(\"https://tfhub.dev/google/faster_rcnn/openimages_v4/inception_resnet_v2/1\")"
      ],
      "metadata": {
        "id": "7f4n94XIL97P"
      },
      "execution_count": null,
      "outputs": []
    },
    {
      "cell_type": "code",
      "source": [
        "#모델 시그니처(용도) 확인\n",
        "model.signatures.keys()"
      ],
      "metadata": {
        "id": "l0MuQYouMmT8"
      },
      "execution_count": null,
      "outputs": []
    },
    {
      "cell_type": "code",
      "source": [
        "#객체탐지 모델 생성\n",
        "obj_detector = model.signatures['default']\n",
        "obj_detector"
      ],
      "metadata": {
        "id": "mwVEFKfwMryq"
      },
      "execution_count": null,
      "outputs": []
    },
    {
      "cell_type": "code",
      "source": [
        "#모델을 이용하여 예측(추론)\n",
        "result = obj_detector(img_input)\n",
        "result.keys()"
      ],
      "metadata": {
        "id": "qnRJjQoCMzSP"
      },
      "execution_count": null,
      "outputs": []
    },
    {
      "cell_type": "code",
      "source": [
        "type(result)"
      ],
      "metadata": {
        "id": "VuLvUAImNbyU"
      },
      "execution_count": null,
      "outputs": []
    },
    {
      "cell_type": "code",
      "source": [
        "labels = result[\"detection_class_labels\"]\n",
        "names = result['detection_class_names']"
      ],
      "metadata": {
        "id": "Te-RkZedOnCJ"
      },
      "execution_count": null,
      "outputs": []
    },
    {
      "cell_type": "code",
      "source": [
        "boxes = result[\"detection_boxes\"]  #Bounding Box 좌표 예측값\n",
        "labels = result[\"detection_class_entities\"]  #클래스 값\n",
        "scores = result[\"detection_scores\"]  #신뢰도 (confidence)"
      ],
      "metadata": {
        "id": "StDrAMmWOL7H"
      },
      "execution_count": null,
      "outputs": []
    },
    {
      "cell_type": "code",
      "source": [
        "#탐지한 객체의 개수\n",
        "len(result[\"detection_scores\"])"
      ],
      "metadata": {
        "id": "rvtTASJUNIsS"
      },
      "execution_count": null,
      "outputs": []
    },
    {
      "cell_type": "code",
      "source": [
        "result.keys()"
      ],
      "metadata": {
        "id": "PXuT7lDkNxbF"
      },
      "execution_count": null,
      "outputs": []
    },
    {
      "cell_type": "code",
      "source": [
        "for key, value in result.items():\n",
        "    print(key, value)"
      ],
      "metadata": {
        "id": "7a_eI4EPPTDn"
      },
      "execution_count": null,
      "outputs": []
    },
    {
      "cell_type": "code",
      "source": [
        "img_height, img_width = img.shape[0], img.shape[1]\n",
        "obj_to_detect = 10\n",
        "for i in range(min(obj_to_detect, boxes.shape[0])):\n",
        "    if scores[i] >= 0.2:\n",
        "        (ymax, xmin, ymin, xmax) = (boxes[i][0]*img_height, boxes[i][1]*img_width,\n",
        "                                    boxes[i][2]*img_height, boxes[i][3]*img_width)\n",
        "        print(\"{} : ({}, {}, {}, {})\". format(scores[i], ymax, xmin, ymin, xmax))"
      ],
      "metadata": {
        "id": "fcjFxrNmPX-r"
      },
      "execution_count": null,
      "outputs": []
    },
    {
      "cell_type": "code",
      "source": [
        "#객체 탐지 결과 시각화\n",
        "boxes = result[\"detection_boxes\"]  #Bounding Box 좌표 예측값\n",
        "labels = result[\"detection_class_entities\"]  #클래스 값\n",
        "scores = result[\"detection_scores\"]  #신뢰도 (confidence)\n",
        "\n",
        "#샘플 이미지 가로 세로 크기\n",
        "img_height, img_width = img.shape[0], img.shape[1]\n",
        "\n",
        "#탐지할 최대 객체의 수\n",
        "obj_to_detect = 10\n",
        "\n",
        "#시각화\n",
        "plt.figure(figsize = (15, 10))\n",
        "for i in range(min(obj_to_detect, boxes.shape[0])):\n",
        "    if scores[i] >= 0.2:\n",
        "        (ymax, xmin, ymin, xmax) = (boxes[i][0]*img_height, boxes[i][1]*img_width,\n",
        "                                    boxes[i][2]*img_height, boxes[i][3]*img_width)\n",
        "        \n",
        "        plt.imshow(img)\n",
        "        plt.plot([xmin, xmax, xmax, xmin, xmin], [ymin, ymin, ymax, ymax, ymin],\n",
        "                 color = 'yellow', linewidth=2)\n",
        "        \n",
        "        class_name = labels[i].numpy().decode('utf-8')\n",
        "        infer_score = str(scores[i].numpy()*100)\n",
        "        annotation = \"{}: {}%\", format(class_name, infer_score)\n",
        "        plt.text(xmin+10, ymax+20, annotation,\n",
        "                 color='white', backgroundcolor='blue', fontsize=10)"
      ],
      "metadata": {
        "id": "OjVSqp0zRIb2"
      },
      "execution_count": null,
      "outputs": []
    }
  ]
}