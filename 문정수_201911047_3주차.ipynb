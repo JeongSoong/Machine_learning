{
  "nbformat": 4,
  "nbformat_minor": 0,
  "metadata": {
    "colab": {
      "provenance": [],
      "authorship_tag": "ABX9TyOYQn6w0YqRYrRRSfUnQfJ7",
      "include_colab_link": true
    },
    "kernelspec": {
      "name": "python3",
      "display_name": "Python 3"
    },
    "language_info": {
      "name": "python"
    }
  },
  "cells": [
    {
      "cell_type": "markdown",
      "metadata": {
        "id": "view-in-github",
        "colab_type": "text"
      },
      "source": [
        "<a href=\"https://colab.research.google.com/github/JeongSoong/Machine_learning/blob/main/%EB%AC%B8%EC%A0%95%EC%88%98_201911047_3%EC%A3%BC%EC%B0%A8.ipynb\" target=\"_parent\"><img src=\"https://colab.research.google.com/assets/colab-badge.svg\" alt=\"Open In Colab\"/></a>"
      ]
    },
    {
      "cell_type": "code",
      "execution_count": null,
      "metadata": {
        "colab": {
          "base_uri": "https://localhost:8080/"
        },
        "id": "aQHO9dahYOLv",
        "outputId": "a88fba7f-e89b-4951-bb8a-3d4618d99885"
      },
      "outputs": [
        {
          "output_type": "stream",
          "name": "stdout",
          "text": [
            "0\n",
            "1\n",
            "2\n",
            "3\n",
            "4\n",
            "5\n",
            "6\n",
            "7\n",
            "8\n",
            "9\n"
          ]
        }
      ],
      "source": [
        "for i in range(10):\n",
        "    print(i)"
      ]
    },
    {
      "cell_type": "code",
      "source": [
        "a=[1,2,3,4,5,6,7,8,9,10]\n",
        "for i in a:\n",
        "    if(i%2!=0):\n",
        "        print(i)"
      ],
      "metadata": {
        "colab": {
          "base_uri": "https://localhost:8080/"
        },
        "id": "_8peKPyjYl04",
        "outputId": "2704ad0e-01e2-4b8d-8531-b095be435fd4"
      },
      "execution_count": null,
      "outputs": [
        {
          "output_type": "stream",
          "name": "stdout",
          "text": [
            "1\n",
            "3\n",
            "5\n",
            "7\n",
            "9\n"
          ]
        }
      ]
    },
    {
      "cell_type": "code",
      "source": [
        "a=[1,2,3,4,5,6,7,8,9,10]\n",
        "for i in a:\n",
        "    n=2*i+1\n",
        "    print(n)"
      ],
      "metadata": {
        "colab": {
          "base_uri": "https://localhost:8080/"
        },
        "id": "8ZvCa23eY1TD",
        "outputId": "a35124e6-d557-41bf-cfdd-141ea75812c6"
      },
      "execution_count": null,
      "outputs": [
        {
          "output_type": "stream",
          "name": "stdout",
          "text": [
            "3\n",
            "5\n",
            "7\n",
            "9\n",
            "11\n",
            "13\n",
            "15\n",
            "17\n",
            "19\n",
            "21\n"
          ]
        }
      ]
    },
    {
      "cell_type": "code",
      "source": [
        "a=[]\n",
        "for i in range(3):\n",
        "    a.append(i)\n",
        "print(a)"
      ],
      "metadata": {
        "colab": {
          "base_uri": "https://localhost:8080/"
        },
        "id": "va8c47tiaclR",
        "outputId": "06aa6b6f-9084-4273-92ad-9f484dbc2121"
      },
      "execution_count": null,
      "outputs": [
        {
          "output_type": "stream",
          "name": "stdout",
          "text": [
            "[0, 1, 2]\n"
          ]
        }
      ]
    },
    {
      "cell_type": "code",
      "source": [
        "b=[]\n",
        "for i in range(4,7):\n",
        "    b.append(i)\n",
        "print(b)"
      ],
      "metadata": {
        "colab": {
          "base_uri": "https://localhost:8080/"
        },
        "id": "K0q6AoG7aqVP",
        "outputId": "fa6237d2-9bd9-48d9-ea0d-30488fc99c18"
      },
      "execution_count": null,
      "outputs": [
        {
          "output_type": "stream",
          "name": "stdout",
          "text": [
            "[4, 5, 6]\n"
          ]
        }
      ]
    },
    {
      "cell_type": "code",
      "source": [
        "c=[]\n",
        "for i in range(3,6):\n",
        "    c.append(i)\n",
        "print(c)"
      ],
      "metadata": {
        "colab": {
          "base_uri": "https://localhost:8080/"
        },
        "id": "trS0qaiWbIuq",
        "outputId": "33801de9-bad9-423c-ab18-7eb562d02ab3"
      },
      "execution_count": null,
      "outputs": [
        {
          "output_type": "stream",
          "name": "stdout",
          "text": [
            "[3, 4, 5]\n"
          ]
        }
      ]
    },
    {
      "cell_type": "code",
      "source": [
        "#합집합\n",
        "U1=a+b\n",
        "U1"
      ],
      "metadata": {
        "colab": {
          "base_uri": "https://localhost:8080/"
        },
        "id": "zjKjDW59bQXH",
        "outputId": "e7fd5252-135e-4de3-8e50-fa3e42687d24"
      },
      "execution_count": null,
      "outputs": [
        {
          "output_type": "execute_result",
          "data": {
            "text/plain": [
              "[0, 1, 2, 4, 5, 6]"
            ]
          },
          "metadata": {},
          "execution_count": 21
        }
      ]
    },
    {
      "cell_type": "code",
      "source": [
        "U2=a+c\n",
        "U2"
      ],
      "metadata": {
        "colab": {
          "base_uri": "https://localhost:8080/"
        },
        "id": "IRXtE4hVbliE",
        "outputId": "b0e4d2a3-7a95-44f4-d004-b0c3823e4ae5"
      },
      "execution_count": null,
      "outputs": [
        {
          "output_type": "execute_result",
          "data": {
            "text/plain": [
              "[0, 1, 2, 3, 4, 5]"
            ]
          },
          "metadata": {},
          "execution_count": 24
        }
      ]
    },
    {
      "cell_type": "code",
      "source": [
        "U3=b+c\n",
        "U3"
      ],
      "metadata": {
        "colab": {
          "base_uri": "https://localhost:8080/"
        },
        "id": "Vv1hS8FBbvUf",
        "outputId": "3eddc6a4-d96e-4981-e560-2e8d27d68d00"
      },
      "execution_count": null,
      "outputs": [
        {
          "output_type": "execute_result",
          "data": {
            "text/plain": [
              "[4, 5, 6, 3, 4, 5]"
            ]
          },
          "metadata": {},
          "execution_count": 29
        }
      ]
    },
    {
      "cell_type": "code",
      "source": [
        "a=[1,2,3]\n",
        "b=[4,5,6]\n",
        "c=[3,4,5]\n",
        "for i in a:\n",
        "    if i in c:\n",
        "        print(i)"
      ],
      "metadata": {
        "colab": {
          "base_uri": "https://localhost:8080/"
        },
        "id": "TDxYDx90cRM_",
        "outputId": "20d461f5-2256-4987-8f94-8fe2c14b9cb3"
      },
      "execution_count": null,
      "outputs": [
        {
          "output_type": "stream",
          "name": "stdout",
          "text": [
            "3\n"
          ]
        }
      ]
    },
    {
      "cell_type": "code",
      "source": [
        "#교집합\n",
        "I=[]\n",
        "for i in a:\n",
        "    if i in c:\n",
        "        I.append(i)\n",
        "I"
      ],
      "metadata": {
        "colab": {
          "base_uri": "https://localhost:8080/"
        },
        "id": "wph1kykmdw1r",
        "outputId": "c8e9199a-5f40-4a49-9ea6-eb1444098988"
      },
      "execution_count": null,
      "outputs": [
        {
          "output_type": "execute_result",
          "data": {
            "text/plain": [
              "[3]"
            ]
          },
          "metadata": {},
          "execution_count": 60
        }
      ]
    },
    {
      "cell_type": "code",
      "source": [
        "for i in a:\n",
        "    if i in c:\n",
        "        a.remove(i)\n",
        "print(a)       "
      ],
      "metadata": {
        "colab": {
          "base_uri": "https://localhost:8080/"
        },
        "id": "6xAQ6XzCeGu9",
        "outputId": "ddc34703-62f0-4e4a-bf2a-210663dd8d1d"
      },
      "execution_count": null,
      "outputs": [
        {
          "output_type": "stream",
          "name": "stdout",
          "text": [
            "[1, 2]\n"
          ]
        }
      ]
    },
    {
      "cell_type": "code",
      "source": [
        "U=a+c\n",
        "U"
      ],
      "metadata": {
        "colab": {
          "base_uri": "https://localhost:8080/"
        },
        "id": "Cawug7rIeSiH",
        "outputId": "65530e84-05c6-4883-da6b-59ab6293ba9c"
      },
      "execution_count": null,
      "outputs": [
        {
          "output_type": "execute_result",
          "data": {
            "text/plain": [
              "[1, 2, 3, 4, 5]"
            ]
          },
          "metadata": {},
          "execution_count": 62
        }
      ]
    },
    {
      "cell_type": "code",
      "source": [
        "a=[1,2,3]\n",
        "b=[4,5,6]\n",
        "c=[3,4,5]\n",
        "for i in c:\n",
        "    if i not in a:\n",
        "        a.append(i)\n",
        "a "
      ],
      "metadata": {
        "colab": {
          "base_uri": "https://localhost:8080/"
        },
        "id": "wXRq4404ema-",
        "outputId": "b74cdd83-6476-4a94-8b85-7b3dab04b408"
      },
      "execution_count": null,
      "outputs": [
        {
          "output_type": "execute_result",
          "data": {
            "text/plain": [
              "[1, 2, 3, 4, 5]"
            ]
          },
          "metadata": {},
          "execution_count": 71
        }
      ]
    },
    {
      "cell_type": "code",
      "source": [
        "for i in b:\n",
        "    if i not in c:\n",
        "        c.remove(i)\n",
        "c"
      ],
      "metadata": {
        "colab": {
          "base_uri": "https://localhost:8080/"
        },
        "id": "K-tYaubrgoZJ",
        "outputId": "021a1c92-30fb-4104-85f8-a3fffeeea750"
      },
      "execution_count": null,
      "outputs": [
        {
          "output_type": "execute_result",
          "data": {
            "text/plain": [
              "[3]"
            ]
          },
          "metadata": {},
          "execution_count": 80
        }
      ]
    },
    {
      "cell_type": "markdown",
      "source": [
        "WHILE"
      ],
      "metadata": {
        "id": "IoWUZCUJkVe7"
      }
    },
    {
      "cell_type": "code",
      "source": [
        "num=0\n",
        "while num<10:\n",
        "    print(num)\n",
        "    num+=1"
      ],
      "metadata": {
        "colab": {
          "base_uri": "https://localhost:8080/"
        },
        "id": "2m0G184UkXsI",
        "outputId": "dd8b9379-ca80-415d-dc02-78f4be85242a"
      },
      "execution_count": null,
      "outputs": [
        {
          "output_type": "stream",
          "name": "stdout",
          "text": [
            "0\n",
            "1\n",
            "2\n",
            "3\n",
            "4\n",
            "5\n",
            "6\n",
            "7\n",
            "8\n",
            "9\n"
          ]
        }
      ]
    },
    {
      "cell_type": "code",
      "source": [
        "a=1\n",
        "while a<10:\n",
        "    b=1\n",
        "    while(b<10):\n",
        "        print(\"{} * {} = {}\".format(a,b,a*b))\n",
        "        b+=1\n",
        "    a += 1 "
      ],
      "metadata": {
        "colab": {
          "base_uri": "https://localhost:8080/"
        },
        "id": "7tHDi3VmlBaO",
        "outputId": "94745bd2-55c2-4d8d-9941-5113dfd87bc7"
      },
      "execution_count": null,
      "outputs": [
        {
          "output_type": "stream",
          "name": "stdout",
          "text": [
            "1 * 1 = 1\n",
            "1 * 2 = 2\n",
            "1 * 3 = 3\n",
            "1 * 4 = 4\n",
            "1 * 5 = 5\n",
            "1 * 6 = 6\n",
            "1 * 7 = 7\n",
            "1 * 8 = 8\n",
            "1 * 9 = 9\n",
            "2 * 1 = 2\n",
            "2 * 2 = 4\n",
            "2 * 3 = 6\n",
            "2 * 4 = 8\n",
            "2 * 5 = 10\n",
            "2 * 6 = 12\n",
            "2 * 7 = 14\n",
            "2 * 8 = 16\n",
            "2 * 9 = 18\n",
            "3 * 1 = 3\n",
            "3 * 2 = 6\n",
            "3 * 3 = 9\n",
            "3 * 4 = 12\n",
            "3 * 5 = 15\n",
            "3 * 6 = 18\n",
            "3 * 7 = 21\n",
            "3 * 8 = 24\n",
            "3 * 9 = 27\n",
            "4 * 1 = 4\n",
            "4 * 2 = 8\n",
            "4 * 3 = 12\n",
            "4 * 4 = 16\n",
            "4 * 5 = 20\n",
            "4 * 6 = 24\n",
            "4 * 7 = 28\n",
            "4 * 8 = 32\n",
            "4 * 9 = 36\n",
            "5 * 1 = 5\n",
            "5 * 2 = 10\n",
            "5 * 3 = 15\n",
            "5 * 4 = 20\n",
            "5 * 5 = 25\n",
            "5 * 6 = 30\n",
            "5 * 7 = 35\n",
            "5 * 8 = 40\n",
            "5 * 9 = 45\n",
            "6 * 1 = 6\n",
            "6 * 2 = 12\n",
            "6 * 3 = 18\n",
            "6 * 4 = 24\n",
            "6 * 5 = 30\n",
            "6 * 6 = 36\n",
            "6 * 7 = 42\n",
            "6 * 8 = 48\n",
            "6 * 9 = 54\n",
            "7 * 1 = 7\n",
            "7 * 2 = 14\n",
            "7 * 3 = 21\n",
            "7 * 4 = 28\n",
            "7 * 5 = 35\n",
            "7 * 6 = 42\n",
            "7 * 7 = 49\n",
            "7 * 8 = 56\n",
            "7 * 9 = 63\n",
            "8 * 1 = 8\n",
            "8 * 2 = 16\n",
            "8 * 3 = 24\n",
            "8 * 4 = 32\n",
            "8 * 5 = 40\n",
            "8 * 6 = 48\n",
            "8 * 7 = 56\n",
            "8 * 8 = 64\n",
            "8 * 9 = 72\n",
            "9 * 1 = 9\n",
            "9 * 2 = 18\n",
            "9 * 3 = 27\n",
            "9 * 4 = 36\n",
            "9 * 5 = 45\n",
            "9 * 6 = 54\n",
            "9 * 7 = 63\n",
            "9 * 8 = 72\n",
            "9 * 9 = 81\n"
          ]
        }
      ]
    },
    {
      "cell_type": "code",
      "source": [
        "#로그인될때까지 물어보기\n",
        "while True:\n",
        "    print(\"숫자입력\\n\")\n",
        "    num = input()\n",
        "    if num == \"1234\":\n",
        "        print(\"로그인되었습니다.\\n\")\n",
        "        break\n",
        "    else:\n",
        "        print(\"비밀번호가 틀렸습니다. 다시 입력해주세요\")"
      ],
      "metadata": {
        "colab": {
          "base_uri": "https://localhost:8080/"
        },
        "id": "p8PRaJO7kmt8",
        "outputId": "5f4011ab-14ef-42a1-8cdc-02bc6f3a434f"
      },
      "execution_count": null,
      "outputs": [
        {
          "output_type": "stream",
          "name": "stdout",
          "text": [
            "숫자입력\n",
            "\n",
            "1234\n",
            "로그인되었습니다.\n",
            "\n"
          ]
        }
      ]
    },
    {
      "cell_type": "code",
      "source": [
        "#로또번호 6개 추출\n",
        "import random"
      ],
      "metadata": {
        "id": "yyYIqkA4psT-"
      },
      "execution_count": null,
      "outputs": []
    },
    {
      "cell_type": "code",
      "source": [
        "num_range=range(1,46)\n",
        "num_list = list(num_range)\n",
        "print(num_list)"
      ],
      "metadata": {
        "colab": {
          "base_uri": "https://localhost:8080/"
        },
        "id": "3TSkZvaMpyU_",
        "outputId": "ac4b0a96-be24-462e-8cb3-ab646be5309c"
      },
      "execution_count": null,
      "outputs": [
        {
          "output_type": "stream",
          "name": "stdout",
          "text": [
            "[1, 2, 3, 4, 5, 6, 7, 8, 9, 10, 11, 12, 13, 14, 15, 16, 17, 18, 19, 20, 21, 22, 23, 24, 25, 26, 27, 28, 29, 30, 31, 32, 33, 34, 35, 36, 37, 38, 39, 40, 41, 42, 43, 44, 45]\n"
          ]
        }
      ]
    },
    {
      "cell_type": "code",
      "source": [
        "random.shuffle(num_list)\n",
        "print(num_list)\n",
        "len(num_list)"
      ],
      "metadata": {
        "colab": {
          "base_uri": "https://localhost:8080/"
        },
        "id": "GSC2zTSBqYob",
        "outputId": "c917c123-018c-477d-e874-4b04156e1377"
      },
      "execution_count": null,
      "outputs": [
        {
          "output_type": "stream",
          "name": "stdout",
          "text": [
            "[33, 23, 38, 30, 16, 45, 15, 6, 44, 1, 34, 13, 19, 25, 40, 28, 3, 35, 9, 27, 36, 10, 2, 43, 39, 4, 24, 18, 37, 14, 12, 21, 42, 7, 8, 29, 22, 11, 17, 41, 32, 26, 5, 20, 31]\n"
          ]
        },
        {
          "output_type": "execute_result",
          "data": {
            "text/plain": [
              "45"
            ]
          },
          "metadata": {},
          "execution_count": 99
        }
      ]
    },
    {
      "cell_type": "code",
      "source": [
        "lotto=[]\n",
        "while len(lotto)<6:\n",
        "    random.shuffle(num_list)\n",
        "    num_selected = num_list[0]\n",
        "    lotto.append(num_selected)\n",
        "print(lotto)\n"
      ],
      "metadata": {
        "colab": {
          "base_uri": "https://localhost:8080/"
        },
        "id": "1L6PjOH5r7tB",
        "outputId": "249dfa6c-f7c6-411d-8fad-1d322912fbf1"
      },
      "execution_count": null,
      "outputs": [
        {
          "output_type": "stream",
          "name": "stdout",
          "text": [
            "[16, 12, 6, 12, 4, 26]\n"
          ]
        }
      ]
    },
    {
      "cell_type": "markdown",
      "source": [
        "숫자 샘플링\n",
        "1. random() : 0~1사이 float 리턴\n",
        "2. randint(a,b) : a와b사이 정수 리턴\n",
        "3. nuiform : a와 b사이 float 리턴\n",
        "4. randrange(a,b,c) : a와 b사이 c간격의 숫자\n",
        "5. shuffle(집합) : 집합의 원소를 모두 섞어서 리턴\n",
        "6. sample(집합, 수) : 집합에서 수 만큼 추출"
      ],
      "metadata": {
        "id": "xtBq-krVsuwz"
      }
    },
    {
      "cell_type": "code",
      "source": [
        "num=0\n",
        "while num<10:\n",
        "    e = random.randint(1,30)\n",
        "    num+=1\n",
        "    print(e)"
      ],
      "metadata": {
        "colab": {
          "base_uri": "https://localhost:8080/"
        },
        "id": "IzmIMK_ht5SF",
        "outputId": "f3bbb27c-a635-4510-d01e-43461dd91381"
      },
      "execution_count": null,
      "outputs": [
        {
          "output_type": "stream",
          "name": "stdout",
          "text": [
            "3\n",
            "19\n",
            "6\n",
            "15\n",
            "22\n",
            "18\n",
            "18\n",
            "10\n",
            "19\n",
            "8\n"
          ]
        }
      ]
    },
    {
      "cell_type": "code",
      "source": [
        "#소수 판별하기\n",
        "\n",
        "num = 2\n",
        "print(\"숫자를 입력하시오 \\n\")\n",
        "a = int(input())\n",
        "\n",
        "if a < 2:\n",
        "    print(\"소수가 아닙니다.\")\n",
        "else:\n",
        "    while num < a:\n",
        "        if a % num == 0:\n",
        "            print(\"소수가 아닙니다.\")\n",
        "            break\n",
        "        else:\n",
        "            num += 1\n",
        "    if num == a:\n",
        "        print(\"소수입니다.\")"
      ],
      "metadata": {
        "colab": {
          "base_uri": "https://localhost:8080/"
        },
        "id": "BRXtkC3IIcP-",
        "outputId": "a87a199a-35b3-40ce-f2ff-8d5f022c565c"
      },
      "execution_count": null,
      "outputs": [
        {
          "output_type": "stream",
          "name": "stdout",
          "text": [
            "숫자를 입력하시오 \n",
            "\n",
            "2\n",
            "소수입니다.\n"
          ]
        }
      ]
    },
    {
      "cell_type": "code",
      "source": [
        "#약수 구하기기\n",
        "\n",
        "a = int(input(\"숫자를 입력하시오: \"))\n",
        "b = []\n",
        "\n",
        "for num in range(1, a+1):\n",
        "    if a % num == 0:\n",
        "        b.append(num)\n",
        "\n",
        "print(\"약수:\",b)"
      ],
      "metadata": {
        "colab": {
          "base_uri": "https://localhost:8080/"
        },
        "id": "4rNAUR62PLQX",
        "outputId": "12451d13-864b-45ca-bc73-0c4915935959"
      },
      "execution_count": null,
      "outputs": [
        {
          "output_type": "stream",
          "name": "stdout",
          "text": [
            "숫자를 입력하시오: 8\n",
            "[1, 2, 4, 8]\n"
          ]
        }
      ]
    },
    {
      "cell_type": "code",
      "source": [
        "#소인수 구하기\n",
        "\n",
        "a = int(input(\"숫자를 입력하시오오: \"))\n",
        "b = []\n",
        "\n",
        "for num in range(2, a+1):\n",
        "    while a % num == 0:\n",
        "        b.append(num)\n",
        "        a //= num\n",
        "if len(b) == 0:\n",
        "    print(\"입력한 수의 소인수가 존재하지 않습니다.\")\n",
        "else:\n",
        "    print(\"입력한 수의 소인수: \", end=\"\")\n",
        "    for bnum in range(len(b)):\n",
        "        if num == len(b)-1:\n",
        "            print(b[num])\n",
        "        else:\n",
        "            print(b[num], end=\", \")"
      ],
      "metadata": {
        "colab": {
          "base_uri": "https://localhost:8080/"
        },
        "id": "NekKOCl9SXhs",
        "outputId": "9eb8a6d4-95ad-46e3-8905-17988260ec98"
      },
      "execution_count": null,
      "outputs": [
        {
          "output_type": "stream",
          "name": "stdout",
          "text": [
            "숫자를 입력하시오: 15\n",
            "[2, 3, 5, 7, 11, 13]\n"
          ]
        }
      ]
    },
    {
      "cell_type": "code",
      "source": [
        " #최대공약수 구하기기\n",
        "\n",
        "a = int(input(\"첫번째 수를 입력하시오: \"))\n",
        "b = int(input(\"두번째 수를 입력하시오: \"))\n",
        "\n",
        "while b != 0:\n",
        "    temp = a % b\n",
        "    a = b\n",
        "    b = temp\n",
        "\n",
        "print(\"최대 공약수:\", a)"
      ],
      "metadata": {
        "colab": {
          "base_uri": "https://localhost:8080/"
        },
        "id": "5zg1nfGfT_D6",
        "outputId": "c7b4c885-3ea3-4868-bf3d-446a31af17a7"
      },
      "execution_count": null,
      "outputs": [
        {
          "output_type": "stream",
          "name": "stdout",
          "text": [
            "첫번째 수를 입력하시오: 15\n",
            "두번째 수를 입력하시오: 25\n",
            "최대 공약수: 5\n"
          ]
        }
      ]
    },
    {
      "cell_type": "code",
      "source": [
        "#최소공배수 구하기기\n",
        "\n",
        "a = int(input(\"첫번째 수를 입력하시오: \"))\n",
        "b = int(input(\"두번째 수를 입력하시오: \"))\n",
        "\n",
        "temp_a = a\n",
        "temp_b = b\n",
        "while temp_b != 0:\n",
        "    temp = temp_a % temp_b\n",
        "    temp_a = temp_b\n",
        "    temp_b = temp\n",
        "\n",
        "c = a * b // temp_a\n",
        "\n",
        "print(\"최소 공배수:\", c)"
      ],
      "metadata": {
        "colab": {
          "base_uri": "https://localhost:8080/"
        },
        "id": "D67PdkBCVXnB",
        "outputId": "a1bb1ba4-1ac9-4458-9f74-761f0215c5d8"
      },
      "execution_count": null,
      "outputs": [
        {
          "output_type": "stream",
          "name": "stdout",
          "text": [
            "첫번째 수를 입력하시오: 15\n",
            "두번째 수를 입력하시오: 25\n",
            "최소 공배수: 75\n"
          ]
        }
      ]
    }
  ]
}