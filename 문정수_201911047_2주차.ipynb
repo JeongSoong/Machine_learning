{
  "nbformat": 4,
  "nbformat_minor": 0,
  "metadata": {
    "colab": {
      "provenance": [],
      "toc_visible": true,
      "mount_file_id": "1aF-TUc4lLpkBKTqxWRkFLOLB_Ins_C6t",
      "authorship_tag": "ABX9TyOXwoXIXtpjTlxsY8PDr/9y",
      "include_colab_link": true
    },
    "kernelspec": {
      "name": "python3",
      "display_name": "Python 3"
    },
    "language_info": {
      "name": "python"
    },
    "accelerator": "GPU",
    "gpuClass": "standard"
  },
  "cells": [
    {
      "cell_type": "markdown",
      "metadata": {
        "id": "view-in-github",
        "colab_type": "text"
      },
      "source": [
        "<a href=\"https://colab.research.google.com/github/JeongSoong/Machine_learning/blob/main/%EB%AC%B8%EC%A0%95%EC%88%98_201911047_2%EC%A3%BC%EC%B0%A8.ipynb\" target=\"_parent\"><img src=\"https://colab.research.google.com/assets/colab-badge.svg\" alt=\"Open In Colab\"/></a>"
      ]
    },
    {
      "cell_type": "code",
      "execution_count": null,
      "metadata": {
        "colab": {
          "base_uri": "https://localhost:8080/"
        },
        "id": "oFBDq6JNZfsb",
        "outputId": "1feaade9-d90f-44dc-8c24-703ea433943d"
      },
      "outputs": [
        {
          "output_type": "execute_result",
          "data": {
            "text/plain": [
              "0.3333333333333333"
            ]
          },
          "metadata": {},
          "execution_count": 1
        }
      ],
      "source": [
        "x = 1/3\n",
        "x"
      ]
    },
    {
      "cell_type": "code",
      "source": [
        "x = round(x,3)"
      ],
      "metadata": {
        "id": "UQ-fWKxHZzZM"
      },
      "execution_count": null,
      "outputs": []
    },
    {
      "cell_type": "code",
      "source": [
        "x"
      ],
      "metadata": {
        "colab": {
          "base_uri": "https://localhost:8080/"
        },
        "id": "QQ_dhQmAZ8_h",
        "outputId": "9c365976-5c4d-427b-89d8-beb4ee17c2e5"
      },
      "execution_count": null,
      "outputs": [
        {
          "output_type": "execute_result",
          "data": {
            "text/plain": [
              "0.333"
            ]
          },
          "metadata": {},
          "execution_count": 3
        }
      ]
    },
    {
      "cell_type": "markdown",
      "source": [
        "인덱싱 슬라이싱"
      ],
      "metadata": {
        "id": "tYrUWcMHaKvK"
      }
    },
    {
      "cell_type": "code",
      "source": [
        "str1=\"Hello~~!!Pyton\""
      ],
      "metadata": {
        "id": "Pdx5uqFzaMuy"
      },
      "execution_count": null,
      "outputs": []
    },
    {
      "cell_type": "code",
      "source": [
        "len(str1)"
      ],
      "metadata": {
        "colab": {
          "base_uri": "https://localhost:8080/"
        },
        "id": "VUbLALJzaVIE",
        "outputId": "fd672b34-1977-4662-a98b-d620cb76abe6"
      },
      "execution_count": null,
      "outputs": [
        {
          "output_type": "execute_result",
          "data": {
            "text/plain": [
              "14"
            ]
          },
          "metadata": {},
          "execution_count": 9
        }
      ]
    },
    {
      "cell_type": "code",
      "source": [
        "str1[13]"
      ],
      "metadata": {
        "colab": {
          "base_uri": "https://localhost:8080/",
          "height": 35
        },
        "id": "SCHBX7Qcag-t",
        "outputId": "3a76c54c-5e7a-499e-e8dc-45388c6a254b"
      },
      "execution_count": null,
      "outputs": [
        {
          "output_type": "execute_result",
          "data": {
            "text/plain": [
              "'n'"
            ],
            "application/vnd.google.colaboratory.intrinsic+json": {
              "type": "string"
            }
          },
          "metadata": {},
          "execution_count": 10
        }
      ]
    },
    {
      "cell_type": "code",
      "source": [
        "str1[-1]"
      ],
      "metadata": {
        "colab": {
          "base_uri": "https://localhost:8080/",
          "height": 35
        },
        "id": "hisghqBLarea",
        "outputId": "62bafc41-70c9-4c01-b6f7-171d3ea38408"
      },
      "execution_count": null,
      "outputs": [
        {
          "output_type": "execute_result",
          "data": {
            "text/plain": [
              "'n'"
            ],
            "application/vnd.google.colaboratory.intrinsic+json": {
              "type": "string"
            }
          },
          "metadata": {},
          "execution_count": 11
        }
      ]
    },
    {
      "cell_type": "code",
      "source": [
        "str1[0:]"
      ],
      "metadata": {
        "colab": {
          "base_uri": "https://localhost:8080/",
          "height": 35
        },
        "id": "agPGKRKfaujC",
        "outputId": "f2d42a1a-2783-4942-badc-cba5ef35dc9d"
      },
      "execution_count": null,
      "outputs": [
        {
          "output_type": "execute_result",
          "data": {
            "text/plain": [
              "'Hello~~!!Pyton'"
            ],
            "application/vnd.google.colaboratory.intrinsic+json": {
              "type": "string"
            }
          },
          "metadata": {},
          "execution_count": 12
        }
      ]
    },
    {
      "cell_type": "code",
      "source": [
        "str1[3:]"
      ],
      "metadata": {
        "colab": {
          "base_uri": "https://localhost:8080/",
          "height": 35
        },
        "id": "5QmIDdUga08a",
        "outputId": "3669f2ff-d2fa-4578-e599-bc951a682ec6"
      },
      "execution_count": null,
      "outputs": [
        {
          "output_type": "execute_result",
          "data": {
            "text/plain": [
              "'lo~~!!Pyton'"
            ],
            "application/vnd.google.colaboratory.intrinsic+json": {
              "type": "string"
            }
          },
          "metadata": {},
          "execution_count": 13
        }
      ]
    },
    {
      "cell_type": "code",
      "source": [
        "str1[:-1]"
      ],
      "metadata": {
        "colab": {
          "base_uri": "https://localhost:8080/",
          "height": 35
        },
        "id": "YNXE1C3ra_PK",
        "outputId": "84dd9bd5-d0f5-4593-a914-fe14b33d268a"
      },
      "execution_count": null,
      "outputs": [
        {
          "output_type": "execute_result",
          "data": {
            "text/plain": [
              "'Hello~~!!Pyto'"
            ],
            "application/vnd.google.colaboratory.intrinsic+json": {
              "type": "string"
            }
          },
          "metadata": {},
          "execution_count": 14
        }
      ]
    },
    {
      "cell_type": "code",
      "source": [
        "str1[3:]"
      ],
      "metadata": {
        "colab": {
          "base_uri": "https://localhost:8080/",
          "height": 35
        },
        "id": "n_BkFyDWbYbR",
        "outputId": "d62a2438-98c5-444e-8c39-bfd406328494"
      },
      "execution_count": null,
      "outputs": [
        {
          "output_type": "execute_result",
          "data": {
            "text/plain": [
              "'lo~~!!Pyton'"
            ],
            "application/vnd.google.colaboratory.intrinsic+json": {
              "type": "string"
            }
          },
          "metadata": {},
          "execution_count": 15
        }
      ]
    },
    {
      "cell_type": "code",
      "source": [
        "str1[3:6]"
      ],
      "metadata": {
        "colab": {
          "base_uri": "https://localhost:8080/",
          "height": 35
        },
        "id": "kDy1M547bkUY",
        "outputId": "bf3876ee-adf1-4ba7-95c3-50cbefc573e2"
      },
      "execution_count": null,
      "outputs": [
        {
          "output_type": "execute_result",
          "data": {
            "text/plain": [
              "'lo~'"
            ],
            "application/vnd.google.colaboratory.intrinsic+json": {
              "type": "string"
            }
          },
          "metadata": {},
          "execution_count": 16
        }
      ]
    },
    {
      "cell_type": "code",
      "source": [
        "dict1={\"name\":\"Moon\",\"age\":23,\"school\":\"Halla\"}"
      ],
      "metadata": {
        "id": "CaKBvryHdCjq"
      },
      "execution_count": null,
      "outputs": []
    },
    {
      "cell_type": "code",
      "source": [
        "dict1[\"name\"]"
      ],
      "metadata": {
        "colab": {
          "base_uri": "https://localhost:8080/",
          "height": 35
        },
        "id": "o1v0UbtMdla2",
        "outputId": "0a863b64-0657-4744-ffe7-0630e854f8d6"
      },
      "execution_count": null,
      "outputs": [
        {
          "output_type": "execute_result",
          "data": {
            "text/plain": [
              "'Moon'"
            ],
            "application/vnd.google.colaboratory.intrinsic+json": {
              "type": "string"
            }
          },
          "metadata": {},
          "execution_count": 18
        }
      ]
    },
    {
      "cell_type": "code",
      "source": [
        "dict1.keys()"
      ],
      "metadata": {
        "colab": {
          "base_uri": "https://localhost:8080/"
        },
        "id": "45rfYNAvdsnF",
        "outputId": "96b6d2bd-4fb2-4c55-b9cf-7dc5b1121816"
      },
      "execution_count": null,
      "outputs": [
        {
          "output_type": "execute_result",
          "data": {
            "text/plain": [
              "dict_keys(['name', 'age', 'school'])"
            ]
          },
          "metadata": {},
          "execution_count": 19
        }
      ]
    },
    {
      "cell_type": "code",
      "source": [
        "dict1.items()"
      ],
      "metadata": {
        "colab": {
          "base_uri": "https://localhost:8080/"
        },
        "id": "lQCmjgWFdwrF",
        "outputId": "bc62e616-64c6-4353-c7ce-649dd09d02ce"
      },
      "execution_count": null,
      "outputs": [
        {
          "output_type": "execute_result",
          "data": {
            "text/plain": [
              "dict_items([('name', 'Moon'), ('age', 23), ('school', 'Halla')])"
            ]
          },
          "metadata": {},
          "execution_count": 20
        }
      ]
    },
    {
      "cell_type": "code",
      "source": [
        "dict1.values()"
      ],
      "metadata": {
        "colab": {
          "base_uri": "https://localhost:8080/"
        },
        "id": "jOqSpXQFeCS8",
        "outputId": "2e9b2c23-5a95-4bea-9e82-ae7e871ad5e1"
      },
      "execution_count": null,
      "outputs": [
        {
          "output_type": "execute_result",
          "data": {
            "text/plain": [
              "dict_values(['Moon', 23, 'Halla'])"
            ]
          },
          "metadata": {},
          "execution_count": 21
        }
      ]
    },
    {
      "cell_type": "code",
      "source": [],
      "metadata": {
        "id": "jjclu2wbeXDd"
      },
      "execution_count": null,
      "outputs": []
    },
    {
      "cell_type": "code",
      "source": [
        "x=3\n",
        "y=7\n",
        "z=11"
      ],
      "metadata": {
        "id": "gQMbDPAYjFAb"
      },
      "execution_count": null,
      "outputs": []
    },
    {
      "cell_type": "code",
      "source": [
        "a1=z/x"
      ],
      "metadata": {
        "id": "xshjvUTnjFCp"
      },
      "execution_count": null,
      "outputs": []
    },
    {
      "cell_type": "code",
      "source": [
        "a1=round(a1,4)"
      ],
      "metadata": {
        "id": "zGyjE8UYjFIx"
      },
      "execution_count": null,
      "outputs": []
    },
    {
      "cell_type": "code",
      "source": [
        "a1"
      ],
      "metadata": {
        "colab": {
          "base_uri": "https://localhost:8080/"
        },
        "id": "WI8X9LIhjFLR",
        "outputId": "beea24b2-13d0-43ea-841e-12d8a020d8ad"
      },
      "execution_count": null,
      "outputs": [
        {
          "output_type": "execute_result",
          "data": {
            "text/plain": [
              "3.6667"
            ]
          },
          "metadata": {},
          "execution_count": 29
        }
      ]
    },
    {
      "cell_type": "code",
      "source": [
        "z//x"
      ],
      "metadata": {
        "colab": {
          "base_uri": "https://localhost:8080/"
        },
        "id": "cfC7JdmsjFN5",
        "outputId": "55096956-10c6-4561-b396-79ee3ccc3f26"
      },
      "execution_count": null,
      "outputs": [
        {
          "output_type": "execute_result",
          "data": {
            "text/plain": [
              "3"
            ]
          },
          "metadata": {},
          "execution_count": 30
        }
      ]
    },
    {
      "cell_type": "code",
      "source": [
        "z%x"
      ],
      "metadata": {
        "colab": {
          "base_uri": "https://localhost:8080/"
        },
        "id": "LO7YNfI-jFQZ",
        "outputId": "b3faa1a8-68b7-4352-9b3b-530cde7129b4"
      },
      "execution_count": null,
      "outputs": [
        {
          "output_type": "execute_result",
          "data": {
            "text/plain": [
              "2"
            ]
          },
          "metadata": {},
          "execution_count": 31
        }
      ]
    },
    {
      "cell_type": "code",
      "source": [
        "z**x"
      ],
      "metadata": {
        "colab": {
          "base_uri": "https://localhost:8080/"
        },
        "id": "PUeHey-mj2IT",
        "outputId": "3037e924-ee4a-4a66-9e87-a955bf1aa0dd"
      },
      "execution_count": null,
      "outputs": [
        {
          "output_type": "execute_result",
          "data": {
            "text/plain": [
              "1331"
            ]
          },
          "metadata": {},
          "execution_count": 32
        }
      ]
    },
    {
      "cell_type": "code",
      "source": [
        "if x<3:\n",
        "    print(\"True\")\n",
        "else:\n",
        "    print(\"False\")"
      ],
      "metadata": {
        "colab": {
          "base_uri": "https://localhost:8080/"
        },
        "id": "3lPkEqmBj5LE",
        "outputId": "b3badd31-7256-4e58-d23c-fd4e7720f231"
      },
      "execution_count": null,
      "outputs": [
        {
          "output_type": "stream",
          "name": "stdout",
          "text": [
            "False\n"
          ]
        }
      ]
    },
    {
      "cell_type": "code",
      "source": [
        "num = int(input())\n",
        "if num%2==0:\n",
        "    print(\"짝수\")\n",
        "else:\n",
        "     print(\"홀수\")"
      ],
      "metadata": {
        "colab": {
          "base_uri": "https://localhost:8080/"
        },
        "id": "EmIePZgaj5T4",
        "outputId": "09408763-2f62-4466-d662-4c42d5722524"
      },
      "execution_count": null,
      "outputs": [
        {
          "output_type": "stream",
          "name": "stdout",
          "text": [
            "5\n",
            "홀수\n"
          ]
        }
      ]
    },
    {
      "cell_type": "code",
      "source": [
        "num = int(input())\n",
        "if num>=90:\n",
        "    print(\"A\")\n",
        "elif num>=80:\n",
        "    print(\"B\")\n",
        "elif num>=70:\n",
        "    print(\"C\")\n",
        "elif num>=60:\n",
        "    print(\"D\")\n",
        "else:\n",
        "    print(\"F\")"
      ],
      "metadata": {
        "colab": {
          "base_uri": "https://localhost:8080/"
        },
        "id": "rB8PEpb2j5ay",
        "outputId": "4dff3ddd-ebe7-472f-e303-cdad8230de3b"
      },
      "execution_count": null,
      "outputs": [
        {
          "output_type": "stream",
          "name": "stdout",
          "text": [
            "95\n",
            "A\n"
          ]
        }
      ]
    },
    {
      "cell_type": "code",
      "source": [
        "password = \"1q2w3e\"\n",
        "word = str(input(\"비밀번호를 입력하시오:\"))\n",
        "if word==password:\n",
        "    print(\"로그인되었습니다.\")\n",
        "else:\n",
        "    print(\"비밀번호가 틀립니다.\")"
      ],
      "metadata": {
        "colab": {
          "base_uri": "https://localhost:8080/"
        },
        "id": "PE_WUzFEj5kd",
        "outputId": "a6a50824-047c-4014-879d-48cb8efc99e0"
      },
      "execution_count": 1,
      "outputs": [
        {
          "output_type": "stream",
          "name": "stdout",
          "text": [
            "비밀번호를 입력하시오:2\n",
            "비밀번호가 틀립니다.\n"
          ]
        }
      ]
    },
    {
      "cell_type": "code",
      "source": [
        "year = int(input(\"태어난 해를 입력하십시오:\"))\n",
        "if year%12 == 0:\n",
        "    print(\"원숭이띠입니다.\")\n",
        "elif year%12 == 1:\n",
        "    print(\"닭띠입니다.\")\n",
        "elif year%12 == 2:\n",
        "    print(\"개띠입니다.\")\n",
        "elif year%12 == 3:\n",
        "    print(\"돼지띠입니다.\")\n",
        "elif year%12 == 4:\n",
        "    print(\"쥐띠입니다.\")\n",
        "elif year%12 == 5:\n",
        "    print(\"소띠입니다.\")\n",
        "elif year%12 == 6:\n",
        "    print(\"호랑이띠입니다.\")\n",
        "elif year%12 == 7:\n",
        "    print(\"토끼띠입니다.\")\n",
        "elif year%12 == 8:\n",
        "    print(\"용띠입니다.\")\n",
        "elif year%12 == 9:\n",
        "    print(\"뱀띠입니다.\")\n",
        "elif year%12 == 10:\n",
        "    print(\"말띠입니다.\")\n",
        "elif year%12 == 11:\n",
        "    print(\"양띠입니다.\")                                            "
      ],
      "metadata": {
        "colab": {
          "base_uri": "https://localhost:8080/"
        },
        "id": "aciKHJqJ7292",
        "outputId": "4daf6ce1-b3c9-4b76-b1cc-73810cb95845"
      },
      "execution_count": 4,
      "outputs": [
        {
          "output_type": "stream",
          "name": "stdout",
          "text": [
            "태어난 해를 입력하십시오:2000\n",
            "용띠입니다.\n"
          ]
        }
      ]
    },
    {
      "cell_type": "code",
      "source": [
        "year = int(input(\"년도를 입력하십시오:\"))\n",
        "if year%4==0 and year%100!=0 or year%400==0:\n",
        "    print(\"윤년입니다.\")\n",
        "else:\n",
        "    print(\"윤년이 아닙니다.\")    "
      ],
      "metadata": {
        "colab": {
          "base_uri": "https://localhost:8080/"
        },
        "id": "UznvmzUG9Twm",
        "outputId": "4724db58-cb4b-4ebf-bf6b-a51835dd29f1"
      },
      "execution_count": 25,
      "outputs": [
        {
          "output_type": "stream",
          "name": "stdout",
          "text": [
            "년도를 입력하십시오:1900\n",
            "윤년이 아닙니다.\n"
          ]
        }
      ]
    }
  ]
}