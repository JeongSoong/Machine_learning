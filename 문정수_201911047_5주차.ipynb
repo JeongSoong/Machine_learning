{
  "nbformat": 4,
  "nbformat_minor": 0,
  "metadata": {
    "colab": {
      "private_outputs": true,
      "provenance": [],
      "authorship_tag": "ABX9TyP005Y7bRV8R2NBtQO3BTPX",
      "include_colab_link": true
    },
    "kernelspec": {
      "name": "python3",
      "display_name": "Python 3"
    },
    "language_info": {
      "name": "python"
    }
  },
  "cells": [
    {
      "cell_type": "markdown",
      "metadata": {
        "id": "view-in-github",
        "colab_type": "text"
      },
      "source": [
        "<a href=\"https://colab.research.google.com/github/JeongSoong/Machine_learning/blob/main/%EB%AC%B8%EC%A0%95%EC%88%98_201911047_5%EC%A3%BC%EC%B0%A8.ipynb\" target=\"_parent\"><img src=\"https://colab.research.google.com/assets/colab-badge.svg\" alt=\"Open In Colab\"/></a>"
      ]
    },
    {
      "cell_type": "code",
      "execution_count": null,
      "metadata": {
        "id": "HbRa8Y3bEpaQ"
      },
      "outputs": [],
      "source": [
        "import tensorflow as tf\n",
        "import numpy as np\n",
        "import matplotlib.pyplot as plt\n",
        "\n",
        "##print(tf.excuting_eagerly())"
      ]
    },
    {
      "cell_type": "markdown",
      "source": [
        "변수 저장하기"
      ],
      "metadata": {
        "id": "07cMeuxjfTgU"
      }
    },
    {
      "cell_type": "code",
      "source": [
        "a=1\n",
        "b=2\n",
        "c=tf.math.add(a,b)\n",
        "c"
      ],
      "metadata": {
        "id": "a2jPzoiIfU3P"
      },
      "execution_count": null,
      "outputs": []
    },
    {
      "cell_type": "code",
      "source": [
        "c.numpy"
      ],
      "metadata": {
        "id": "IVFPwoMnfgIp"
      },
      "execution_count": null,
      "outputs": []
    },
    {
      "cell_type": "markdown",
      "source": [
        "스칼라 정의하기\n",
        "\n",
        "1.rank():0\n",
        "2.shape():0\n",
        "3.int:32비트\n",
        "4.cast():자료형 변환"
      ],
      "metadata": {
        "id": "nnDumKDafkYj"
      }
    },
    {
      "cell_type": "code",
      "source": [
        "c1=tf.constant(1)\n",
        "c2=tf.constant(2)\n",
        "print(c1,c2) ##int 정수"
      ],
      "metadata": {
        "id": "fLH319pFgHPe"
      },
      "execution_count": null,
      "outputs": []
    },
    {
      "cell_type": "code",
      "source": [
        "f1=tf.cast(c1,tf.float32)\n",
        "f2=tf.cast(c2,tf.float32)\n",
        "print(f1,f2) ##float "
      ],
      "metadata": {
        "id": "ki7m-968gSCc"
      },
      "execution_count": null,
      "outputs": []
    },
    {
      "cell_type": "markdown",
      "source": [
        "1.add()\n",
        "2.subtract()\n",
        "3.multiply()\n",
        "4.divide()\n",
        "5.mod():나머지\n",
        "6.floordiv():몫"
      ],
      "metadata": {
        "id": "HIzVq3_wgtSl"
      }
    },
    {
      "cell_type": "code",
      "source": [
        "##덧셈\n",
        "add = tf.math.add(c1,c2)\n",
        "add"
      ],
      "metadata": {
        "id": "UsATmyW0g4zo"
      },
      "execution_count": null,
      "outputs": []
    },
    {
      "cell_type": "code",
      "source": [
        "##뺼셈\n",
        "sub = tf.math.subtract(c1,c2)\n",
        "sub"
      ],
      "metadata": {
        "id": "DGt7XmwghAx7"
      },
      "execution_count": null,
      "outputs": []
    },
    {
      "cell_type": "code",
      "source": [
        "##곱셈\n",
        "mul = tf.math.multiply(c1,c2)\n",
        "mul"
      ],
      "metadata": {
        "id": "oXyWOr5jhQ8c"
      },
      "execution_count": null,
      "outputs": []
    },
    {
      "cell_type": "code",
      "source": [
        "##나눗셈\n",
        "div = tf.math.divide(c1,c2)\n",
        "div"
      ],
      "metadata": {
        "id": "O3N0J0CmhZFb"
      },
      "execution_count": null,
      "outputs": []
    },
    {
      "cell_type": "code",
      "source": [
        "##나머지\n",
        "mode = tf.math.mod(c1,c2)\n",
        "mode"
      ],
      "metadata": {
        "id": "UZGIUgXGhv6I"
      },
      "execution_count": null,
      "outputs": []
    },
    {
      "cell_type": "code",
      "source": [
        "##몫\n",
        "fdiv = tf.math.floordiv(c1,c2)\n",
        "fdiv"
      ],
      "metadata": {
        "id": "Oft9LIC4iSU6"
      },
      "execution_count": null,
      "outputs": []
    },
    {
      "cell_type": "markdown",
      "source": [
        "vector\n",
        "1.변수명 = []: 리스트 생성\n",
        "2.변수형 = tf.constant() : 텐서 변환"
      ],
      "metadata": {
        "id": "qfk830RCikgM"
      }
    },
    {
      "cell_type": "code",
      "source": [
        "py_list = [10,20,30]\n",
        "ten_list = tf.constant(py_list,dtype = tf.int32)\n",
        "ten_list"
      ],
      "metadata": {
        "id": "6mVKmQyYiv6K"
      },
      "execution_count": null,
      "outputs": []
    },
    {
      "cell_type": "code",
      "source": [
        "ten_list = tf.constant([10,20,30])\n",
        "ten_list"
      ],
      "metadata": {
        "id": "fM1BbXZqi2Aj"
      },
      "execution_count": null,
      "outputs": []
    },
    {
      "cell_type": "code",
      "source": [
        "num_arr = np.array([10,10,10])\n",
        "ten_arr = tf.constant(num_arr,dtype=tf.int32)\n",
        "ten_arr"
      ],
      "metadata": {
        "id": "RsGiXfn2i_tn"
      },
      "execution_count": null,
      "outputs": []
    },
    {
      "cell_type": "code",
      "source": [
        "add_1=tf.math.add(ten_list,ten_arr)\n",
        "add_1"
      ],
      "metadata": {
        "id": "AcaGn4BejPsd"
      },
      "execution_count": null,
      "outputs": []
    },
    {
      "cell_type": "code",
      "source": [
        "add2 = ten_list+ten_arr\n",
        "add2"
      ],
      "metadata": {
        "id": "ekLZPuIHj68b"
      },
      "execution_count": null,
      "outputs": []
    },
    {
      "cell_type": "code",
      "source": [
        "A = ten_list + ten_arr\n",
        "S = ten_list - ten_arr\n",
        "M = ten_list * ten_arr\n",
        "D = ten_list / ten_arr\n",
        "MO = ten_list % ten_arr\n",
        "FD = ten_list / ten_arr"
      ],
      "metadata": {
        "id": "cvUOdUsxkDGZ"
      },
      "execution_count": null,
      "outputs": []
    },
    {
      "cell_type": "code",
      "source": [
        "A.numpy\n",
        "S.numpy\n",
        "M.numpy\n",
        "D.numpy\n",
        "MO.numpy\n",
        "FD.numpy"
      ],
      "metadata": {
        "id": "H8RMD9obk54y"
      },
      "execution_count": null,
      "outputs": []
    },
    {
      "cell_type": "markdown",
      "source": [
        "행렬 정의하기"
      ],
      "metadata": {
        "id": "uJEew1iIlLbF"
      }
    },
    {
      "cell_type": "code",
      "source": [
        "l_a = [1,0]\n",
        "l_b = [-1,2]\n",
        "l_c = [1,0]"
      ],
      "metadata": {
        "id": "JQ33P-9VlL3d"
      },
      "execution_count": null,
      "outputs": []
    },
    {
      "cell_type": "code",
      "source": [
        "l_a = tf.constant(l_a)\n",
        "l_b = tf.constant(l_b)\n",
        "l_c = tf.constant(l_c)\n",
        "A = tf.stack([l_a,l_b,l_c])\n",
        "A"
      ],
      "metadata": {
        "id": "b9k7mr7SlVq8"
      },
      "execution_count": null,
      "outputs": []
    },
    {
      "cell_type": "code",
      "source": [
        "l_B = [[10,20],[30,40]]\n",
        "l_C = [[10,20],[20,40]]\n",
        "l_D = [[30,10],[10,10]]"
      ],
      "metadata": {
        "id": "26ZMtkFYmE-1"
      },
      "execution_count": null,
      "outputs": []
    },
    {
      "cell_type": "code",
      "source": [
        "B = tf.constant(l_B)\n",
        "C = tf.constant(l_C)\n",
        "D = tf.constant(l_D)\n",
        "B,C,D"
      ],
      "metadata": {
        "id": "rg2D1DhxmQvW"
      },
      "execution_count": null,
      "outputs": []
    },
    {
      "cell_type": "code",
      "source": [
        "m_BCD = tf.stack([B,C,D])\n",
        "m_BCD"
      ],
      "metadata": {
        "id": "IxtRAzVzmxPL"
      },
      "execution_count": null,
      "outputs": []
    },
    {
      "cell_type": "markdown",
      "source": [
        "고차원 텐서\n",
        "\n",
        "1.   1차원 배열 1Xm, n개 정의 2차원 배열 n X m 정의\n",
        "2.   tf.const(\n",
        "\n"
      ],
      "metadata": {
        "id": "FhmkQ7qErOEZ"
      }
    },
    {
      "cell_type": "code",
      "source": [
        "##1차원 배열로 3X2X4 정의하기\n",
        "l_c1 = [1,2,3,4]\n",
        "l_c2 = [3,4,2,5]\n",
        "l_c3 = [2,3,4,5]\n",
        "l_c4 = [6,5,7,3]\n",
        "l_c5 = [1,1,1,1]\n",
        "l_c6 = [8,1,0,6]"
      ],
      "metadata": {
        "id": "1SiwY8KOrcdu"
      },
      "execution_count": null,
      "outputs": []
    },
    {
      "cell_type": "code",
      "source": [
        "c1=tf.constant(l_c1)\n",
        "c2=tf.constant(l_c2)\n",
        "c3=tf.constant(l_c3)\n",
        "c4=tf.constant(l_c4)\n",
        "c5=tf.constant(l_c5)\n",
        "c6=tf.constant(l_c6)"
      ],
      "metadata": {
        "id": "2UO3VTGvrtzO"
      },
      "execution_count": null,
      "outputs": []
    },
    {
      "cell_type": "code",
      "source": [
        "t_A = tf.stack([c1,c2])\n",
        "t_B = tf.stack([c3,c4])\n",
        "t_C = tf.stack([c5,c6])\n",
        "ad = tf.stack([t_A,t_B,t_C])\n",
        "ad"
      ],
      "metadata": {
        "id": "m48EMtUPsE35"
      },
      "execution_count": null,
      "outputs": []
    },
    {
      "cell_type": "code",
      "source": [
        "x = range(1,10)\n",
        "x = list(x)\n",
        "x1 = tf.constant(x)\n",
        "x1"
      ],
      "metadata": {
        "id": "WEuYvXSBthBQ"
      },
      "execution_count": null,
      "outputs": []
    },
    {
      "cell_type": "code",
      "source": [
        "x1[2:4]"
      ],
      "metadata": {
        "id": "exqq7_Qdtp3Y"
      },
      "execution_count": null,
      "outputs": []
    },
    {
      "cell_type": "code",
      "source": [
        "##3X3 행렬인 경우\n",
        "x2 = tf.reshape(x1,[3,-1])\n",
        "x2"
      ],
      "metadata": {
        "id": "vRMYLgu3tzc8"
      },
      "execution_count": null,
      "outputs": []
    },
    {
      "cell_type": "code",
      "source": [
        "#1행 출력\n",
        "x2[:1]"
      ],
      "metadata": {
        "id": "Dwt-NWJOuIi3"
      },
      "execution_count": null,
      "outputs": []
    },
    {
      "cell_type": "code",
      "source": [
        "#2행 출력\n",
        "x2[1:2]"
      ],
      "metadata": {
        "id": "p6OukQyNuSam"
      },
      "execution_count": null,
      "outputs": []
    },
    {
      "cell_type": "code",
      "source": [
        "#1열 출력\n",
        "x2[:,:1] ##=x2[:3,:1]"
      ],
      "metadata": {
        "id": "zrRUvW0luajE"
      },
      "execution_count": null,
      "outputs": []
    },
    {
      "cell_type": "code",
      "source": [
        "##3열 출력\n",
        "x2[:,2:3]"
      ],
      "metadata": {
        "id": "SadQmYovurx6"
      },
      "execution_count": null,
      "outputs": []
    },
    {
      "cell_type": "code",
      "source": [
        "t7 =tf.constant(range(0,24))\n",
        "t7"
      ],
      "metadata": {
        "id": "AdsURYebv9ib"
      },
      "execution_count": null,
      "outputs": []
    },
    {
      "cell_type": "code",
      "source": [
        "r_t7 = tf.reshape(t7,[3,8])\n",
        "r_t7"
      ],
      "metadata": {
        "id": "lgXSayZgwG8L"
      },
      "execution_count": null,
      "outputs": []
    },
    {
      "cell_type": "code",
      "source": [
        "r2_t7 = tf.reshape(t7,[-1,4])\n",
        "r2_t7"
      ],
      "metadata": {
        "id": "0OYfIi0awiqe"
      },
      "execution_count": null,
      "outputs": []
    },
    {
      "cell_type": "code",
      "source": [
        "r3_t7 = tf.reshape(t7,[-1])\n",
        "r3_t7"
      ],
      "metadata": {
        "id": "Dvo4-ngqwnpf"
      },
      "execution_count": null,
      "outputs": []
    },
    {
      "cell_type": "code",
      "source": [
        "r4_t7 = tf.reshape(t7,[-1,3,4])\n",
        "r4_t7"
      ],
      "metadata": {
        "id": "XXALcX2TwusU"
      },
      "execution_count": null,
      "outputs": []
    },
    {
      "cell_type": "code",
      "source": [
        "r5_t7 = tf.reshape(t7,[-1,2,4])\n",
        "r5_t7"
      ],
      "metadata": {
        "id": "Mi3mbafHxJZm"
      },
      "execution_count": null,
      "outputs": []
    },
    {
      "cell_type": "code",
      "source": [
        "r6_t7 = tf.reshape(t7,[-1,2,2,2])\n",
        "r6_t7"
      ],
      "metadata": {
        "id": "K59m9Lg5xP2u"
      },
      "execution_count": null,
      "outputs": []
    },
    {
      "cell_type": "markdown",
      "source": [
        "자동미분"
      ],
      "metadata": {
        "id": "QpGdv-sHxjvO"
      }
    },
    {
      "cell_type": "code",
      "source": [
        "## y=x^2의 미분값 구하기\n",
        "x = tf.Variable(2.0)\n",
        "\n",
        "with tf.GradientTape() as tape:\n",
        "    y = x ** 2\n",
        "dy_dx = tape.gradient(y,x)\n",
        "dy_dx.numpy()"
      ],
      "metadata": {
        "id": "qIZ0Ig98xmVh"
      },
      "execution_count": null,
      "outputs": []
    },
    {
      "cell_type": "code",
      "source": [
        "##reduced_mean()\n",
        "m2 = tf.constant([[1.,1.],[2.,2.]])\n",
        "m2"
      ],
      "metadata": {
        "id": "-3CceYkiVTP6"
      },
      "execution_count": null,
      "outputs": []
    },
    {
      "cell_type": "code",
      "source": [
        "mean2 = tf.reduce_mean(m2)\n",
        "mean2.numpy()"
      ],
      "metadata": {
        "id": "BjVbCykdWZpG"
      },
      "execution_count": null,
      "outputs": []
    },
    {
      "cell_type": "code",
      "source": [
        "m1 = tf.constant([1.,1.,2.,2.,])\n",
        "m1"
      ],
      "metadata": {
        "id": "BZC-LT6SWf4I"
      },
      "execution_count": null,
      "outputs": []
    },
    {
      "cell_type": "code",
      "source": [
        "mean1 = tf.reduce_mean(m1)\n",
        "mean1.numpy()"
      ],
      "metadata": {
        "id": "PURbDEbyWlvs"
      },
      "execution_count": null,
      "outputs": []
    },
    {
      "cell_type": "markdown",
      "source": [
        "데이터셋 생성"
      ],
      "metadata": {
        "id": "HBuxYrtP1E89"
      }
    },
    {
      "cell_type": "code",
      "source": [
        "g = tf.random.Generator.from_seed(2020)\n",
        "x = g.normal(shape=(10,))\n",
        "y = 3*x -2"
      ],
      "metadata": {
        "id": "5Hyo7MKY1GRm"
      },
      "execution_count": null,
      "outputs": []
    },
    {
      "cell_type": "code",
      "source": [
        "x"
      ],
      "metadata": {
        "id": "YO59b7gOWrdt"
      },
      "execution_count": null,
      "outputs": []
    },
    {
      "cell_type": "code",
      "source": [
        "y"
      ],
      "metadata": {
        "id": "yJzXXPhgWsT5"
      },
      "execution_count": null,
      "outputs": []
    },
    {
      "cell_type": "code",
      "source": [
        "##loss함수 정의하기\n",
        "def cal_mse(x, y, a, b):\n",
        "    y_pred = a*x +b\n",
        "    squared_error = (y_pred - y) ** 2\n",
        "    mean_squared_error = tf.reduce_mean(squared_error)\n",
        "\n",
        "    return mean_squared_error"
      ],
      "metadata": {
        "id": "Tbzz0Y1DXHro"
      },
      "execution_count": null,
      "outputs": []
    },
    {
      "cell_type": "code",
      "source": [
        "a = tf.Variable(0.0)\n",
        "b = tf.Variable(0.0)\n",
        "\n",
        "EPOCHS = 300\n",
        "\n",
        "for epoch in range(1, EPOCHS+1):\n",
        "    with tf.GradientTape() as tape:\n",
        "        mse = cal_mse(x, y, a, b)\n",
        "    if mse < 0.00001:\n",
        "        break\n",
        "    \n",
        "    grade = tape.gradient(mse, {'a':a, 'b':b})\n",
        "    d_a, d_b = grade['a'], grade['b']\n",
        "    a.assign_sub(d_a * 0.05)## a = a - d_a*0.05(학습률)\n",
        "    b.assign_sub(d_b * 0.05)## b = b - d_b*0.05(학습률)\n",
        "\n",
        "    if epoch % 20 == 0:\n",
        "        print(\"EPOCH %d - MSE : %.4f - a: %.2f - b : %.2f\"%(epoch, mse, a, b))"
      ],
      "metadata": {
        "id": "qn4ljfYuXbZg"
      },
      "execution_count": null,
      "outputs": []
    },
    {
      "cell_type": "code",
      "source": [
        "y_pred = 3*x -2\n",
        "plt.scatter(x,y)\n",
        "plt.plot(x, y_pred, color = 'r')\n",
        "plt.show()"
      ],
      "metadata": {
        "id": "7bIvEUFeZUpJ"
      },
      "execution_count": null,
      "outputs": []
    },
    {
      "cell_type": "code",
      "source": [
        "##데이터셋 생성(노이즈 첨가)\n",
        "g = tf.random.Generator.from_seed(2020)\n",
        "x1 = g.normal(shape = (10,))\n",
        "noise = np.random.normal(-abs(noise),abs(noise),size = (10,))\n",
        "y = 3*x - 2 + noise"
      ],
      "metadata": {
        "id": "yEFPTdVcaRQx"
      },
      "execution_count": null,
      "outputs": []
    },
    {
      "cell_type": "code",
      "source": [
        "a = tf.Variable(0.0)\n",
        "b = tf.Variable(0.0)\n",
        "\n",
        "EPOCHS = 1000\n",
        "\n",
        "for epoch in range(1, EPOCHS+1):\n",
        "    with tf.GradientTape() as tape:\n",
        "        mse = cal_mse(x1, y, a, b)\n",
        "    if mse < 0.000001:\n",
        "        break\n",
        "    \n",
        "    grade = tape.gradient(mse, {'a':a, 'b':b})\n",
        "    d_a, d_b = grade['a'], grade['b']\n",
        "    a.assign_sub(d_a * 0.05)## a = a - d_a*0.05(학습률)\n",
        "    b.assign_sub(d_b * 0.05)## b = b - d_b*0.05(학습률)\n",
        "\n",
        "    if epoch % 20 == 0:\n",
        "        print(\"EPOCH %d - MSE : %.4f - a: %.2f - b : %.2f\"%(epoch, mse, a, b))"
      ],
      "metadata": {
        "id": "QeooBsTkayj1"
      },
      "execution_count": null,
      "outputs": []
    },
    {
      "cell_type": "code",
      "source": [
        "y_pred = 2.85*x1 -3.33\n",
        "plt.scatter(x,y)\n",
        "plt.plot(x1, y_pred, color = 'r')\n",
        "plt.show()"
      ],
      "metadata": {
        "id": "-niAbYTdgfr6"
      },
      "execution_count": null,
      "outputs": []
    },
    {
      "cell_type": "code",
      "source": [
        "x.numpy"
      ],
      "metadata": {
        "id": "q4ZhEE6Q1Wl6"
      },
      "execution_count": null,
      "outputs": []
    },
    {
      "cell_type": "code",
      "source": [
        "y.numpy"
      ],
      "metadata": {
        "id": "1QCaZgGi1cpz"
      },
      "execution_count": null,
      "outputs": []
    },
    {
      "cell_type": "code",
      "source": [
        "##reduced_mean()\n",
        "m2 = tf.constant([[1.,1,],[2.,2.]])\n",
        "m2"
      ],
      "metadata": {
        "id": "BJx79oy01pe5"
      },
      "execution_count": null,
      "outputs": []
    },
    {
      "cell_type": "code",
      "source": [],
      "metadata": {
        "id": "cw4W_hKCXGFj"
      },
      "execution_count": null,
      "outputs": []
    }
  ]
}