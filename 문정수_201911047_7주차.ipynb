{
  "nbformat": 4,
  "nbformat_minor": 0,
  "metadata": {
    "colab": {
      "provenance": [],
      "gpuType": "T4",
      "authorship_tag": "ABX9TyMq0cMZN59Q59LzQpedmTY7",
      "include_colab_link": true
    },
    "kernelspec": {
      "name": "python3",
      "display_name": "Python 3"
    },
    "language_info": {
      "name": "python"
    },
    "accelerator": "GPU",
    "gpuClass": "standard"
  },
  "cells": [
    {
      "cell_type": "markdown",
      "metadata": {
        "id": "view-in-github",
        "colab_type": "text"
      },
      "source": [
        "<a href=\"https://colab.research.google.com/github/JeongSoong/Machine_learning/blob/main/%EB%AC%B8%EC%A0%95%EC%88%98_201911047_7%EC%A3%BC%EC%B0%A8.ipynb\" target=\"_parent\"><img src=\"https://colab.research.google.com/assets/colab-badge.svg\" alt=\"Open In Colab\"/></a>"
      ]
    },
    {
      "cell_type": "markdown",
      "source": [
        "심층 신경망으로 이미지 분류류\n",
        "\n",
        "1.   이미지 데이터셋 로드\n",
        "2.   이미지 데이터 정규화: 수렴속도 증가\n",
        "3.   DenseLayer에 입력하기 위한 차원축소:reshape().shape\n",
        "4.   모델 생성(DenseLayer(노드수,활성화 함수))\n",
        "5.   compile(): 컴파일(옵티마이저,손실함수,평가지표)\n",
        "6.   fit(): 훈련\n",
        "7.   evaluate(): 검증\n",
        "8.   predict(): 예측\n",
        "\n"
      ],
      "metadata": {
        "id": "5jeaf4Wat4Y9"
      }
    },
    {
      "cell_type": "code",
      "execution_count": 1,
      "metadata": {
        "id": "zqqQ5shPlqTP"
      },
      "outputs": [],
      "source": [
        "import tensorflow as tf\n",
        "import numpy as np\n",
        "import matplotlib.pyplot as plt"
      ]
    },
    {
      "cell_type": "code",
      "source": [
        "##1. 케라스 내장 데이터셋 업로드\n",
        "mnist = tf.keras.datasets.mnist"
      ],
      "metadata": {
        "id": "FemhWMGpwxUk"
      },
      "execution_count": 2,
      "outputs": []
    },
    {
      "cell_type": "code",
      "source": [
        "(x_train, y_train), (x_test, y_test) = mnist.load_data()"
      ],
      "metadata": {
        "id": "fvO5l1g6w9s7",
        "colab": {
          "base_uri": "https://localhost:8080/"
        },
        "outputId": "63a81023-df6d-4be6-f47e-606c178eda12"
      },
      "execution_count": 3,
      "outputs": [
        {
          "output_type": "stream",
          "name": "stdout",
          "text": [
            "Downloading data from https://storage.googleapis.com/tensorflow/tf-keras-datasets/mnist.npz\n",
            "11490434/11490434 [==============================] - 1s 0us/step\n"
          ]
        }
      ]
    },
    {
      "cell_type": "markdown",
      "source": [
        "가중치 초기화"
      ],
      "metadata": {
        "id": "M1Gprj50ZqV4"
      }
    },
    {
      "cell_type": "code",
      "source": [
        "##kernel_initializer = 'uniform'\n",
        "dense = tf.keras.layers.Dense(256,kernel_initializer = 'uniform', activation = 'relu')"
      ],
      "metadata": {
        "id": "DyOJmCePZpQ3"
      },
      "execution_count": 4,
      "outputs": []
    },
    {
      "cell_type": "code",
      "source": [
        "##kernel_initializer = 'normal'\n",
        "dense = tf.keras.layers.Dense(256,kernel_initializer = 'normal', activation = 'relu')"
      ],
      "metadata": {
        "id": "-q7pTnrFaHbm"
      },
      "execution_count": 5,
      "outputs": []
    },
    {
      "cell_type": "code",
      "source": [
        "##kernel_initializer = 'he_normal'\n",
        "dense = tf.keras.layers.Dense(256,kernel_initializer = 'he_normal', activation = 'relu')"
      ],
      "metadata": {
        "id": "c6RjZDkPaZBZ"
      },
      "execution_count": 6,
      "outputs": []
    },
    {
      "cell_type": "code",
      "source": [
        "print(\"train set: \", x_train.shape, y_train.shape)\n",
        "print(\"test set: \", x_test.shape, x_test.shape)"
      ],
      "metadata": {
        "colab": {
          "base_uri": "https://localhost:8080/"
        },
        "id": "ye-MKVcIxK_H",
        "outputId": "a56ee6f0-9fdf-461e-82de-469bfdb14f61"
      },
      "execution_count": 7,
      "outputs": [
        {
          "output_type": "stream",
          "name": "stdout",
          "text": [
            "train set:  (60000, 28, 28) (60000,)\n",
            "test set:  (10000, 28, 28) (10000, 28, 28)\n"
          ]
        }
      ]
    },
    {
      "cell_type": "code",
      "source": [
        "##훈련용 데이터 시각화\n",
        "fig,axes = plt.subplots(3,5)\n",
        "fig.set_size_inches(8,5)\n",
        "\n",
        "for i in range(15):\n",
        "    ax = axes[i//5, i%5]\n",
        "    ax.imshow(x_train[i], cmap = 'gray')\n",
        "    ax.axis('off')\n",
        "    ax.set_title(str(y_train[i]))\n",
        "\n",
        "plt.tight_layout()\n",
        "plt.show()"
      ],
      "metadata": {
        "colab": {
          "base_uri": "https://localhost:8080/",
          "height": 427
        },
        "id": "AblR7S0-xZjI",
        "outputId": "5a91341a-de57-41b0-e7ed-b0ef9808cbff"
      },
      "execution_count": 8,
      "outputs": [
        {
          "output_type": "display_data",
          "data": {
            "text/plain": [
              "<Figure size 800x500 with 15 Axes>"
            ],
            "image/png": "[encoded data removed]"
          },
          "metadata": {}
        }
      ]
    },
    {
      "cell_type": "code",
      "source": [
        "x_train[0, 10:15, 10:15]"
      ],
      "metadata": {
        "colab": {
          "base_uri": "https://localhost:8080/"
        },
        "id": "F3JMO2VXzGBU",
        "outputId": "9fa9e544-6adc-4039-ed25-876bb0a2870f"
      },
      "execution_count": 9,
      "outputs": [
        {
          "output_type": "execute_result",
          "data": {
            "text/plain": [
              "array([[  1, 154, 253,  90,   0],\n",
              "       [  0, 139, 253, 190,   2],\n",
              "       [  0,  11, 190, 253,  70],\n",
              "       [  0,   0,  35, 241, 225],\n",
              "       [  0,   0,   0,  81, 240]], dtype=uint8)"
            ]
          },
          "metadata": {},
          "execution_count": 9
        }
      ]
    },
    {
      "cell_type": "markdown",
      "source": [
        "2.데이터 정규화"
      ],
      "metadata": {
        "id": "l2XllH9GzZaB"
      }
    },
    {
      "cell_type": "code",
      "source": [
        "##정규화: 0~1사이 값으로 변환, 최대값으로 나눈다.\n",
        "x_train_n = x_train/x_train.max()"
      ],
      "metadata": {
        "id": "VxxnYcKgzcwy"
      },
      "execution_count": 10,
      "outputs": []
    },
    {
      "cell_type": "code",
      "source": [
        "x_train_n[0, 10:15, 10:15]"
      ],
      "metadata": {
        "colab": {
          "base_uri": "https://localhost:8080/"
        },
        "id": "zms_Sl0dznmY",
        "outputId": "6b2b4e24-1c16-4c4f-e193-7efe6ad5888f"
      },
      "execution_count": 11,
      "outputs": [
        {
          "output_type": "execute_result",
          "data": {
            "text/plain": [
              "array([[0.00392157, 0.60392157, 0.99215686, 0.35294118, 0.        ],\n",
              "       [0.        , 0.54509804, 0.99215686, 0.74509804, 0.00784314],\n",
              "       [0.        , 0.04313725, 0.74509804, 0.99215686, 0.2745098 ],\n",
              "       [0.        , 0.        , 0.1372549 , 0.94509804, 0.88235294],\n",
              "       [0.        , 0.        , 0.        , 0.31764706, 0.94117647]])"
            ]
          },
          "metadata": {},
          "execution_count": 11
        }
      ]
    },
    {
      "cell_type": "markdown",
      "source": [
        "3. 차원축소"
      ],
      "metadata": {
        "id": "77o_Y1whz9lg"
      }
    },
    {
      "cell_type": "code",
      "source": [
        "##차원 축소\n",
        "x_train.reshape(60000,-1).shape"
      ],
      "metadata": {
        "colab": {
          "base_uri": "https://localhost:8080/"
        },
        "id": "cYt4TTejz1i3",
        "outputId": "2c6c9812-125f-4a3e-9124-09f5dfa1c1e2"
      },
      "execution_count": 12,
      "outputs": [
        {
          "output_type": "execute_result",
          "data": {
            "text/plain": [
              "(60000, 784)"
            ]
          },
          "metadata": {},
          "execution_count": 12
        }
      ]
    },
    {
      "cell_type": "code",
      "source": [
        "tf.keras.layers.Flatten()(x_train).shape"
      ],
      "metadata": {
        "colab": {
          "base_uri": "https://localhost:8080/"
        },
        "id": "eUg1oZ-40GQq",
        "outputId": "022e8368-42da-4d96-cd00-edf893255ef0"
      },
      "execution_count": 13,
      "outputs": [
        {
          "output_type": "execute_result",
          "data": {
            "text/plain": [
              "TensorShape([60000, 784])"
            ]
          },
          "metadata": {},
          "execution_count": 13
        }
      ]
    },
    {
      "cell_type": "markdown",
      "source": [
        "활성화 함수; 출력 함수"
      ],
      "metadata": {
        "id": "yZHNBbLx0OoO"
      }
    },
    {
      "cell_type": "code",
      "source": [
        "tf.keras.layers.Dense(128, activation='relu')"
      ],
      "metadata": {
        "colab": {
          "base_uri": "https://localhost:8080/"
        },
        "id": "-o1G_eBI0RT1",
        "outputId": "a2029284-89d9-4d00-9ace-c8cca5c7c821"
      },
      "execution_count": 14,
      "outputs": [
        {
          "output_type": "execute_result",
          "data": {
            "text/plain": [
              "<keras.layers.core.dense.Dense at 0x7fd45a067700>"
            ]
          },
          "metadata": {},
          "execution_count": 14
        }
      ]
    },
    {
      "cell_type": "markdown",
      "source": [
        "입력과 출력"
      ],
      "metadata": {
        "id": "i8gbED3g03DZ"
      }
    },
    {
      "cell_type": "code",
      "source": [
        "##출력층이 1인 경우: sigmoid\n",
        "tf.keras.layers.Dense(1, activation = 'sigmoid')"
      ],
      "metadata": {
        "colab": {
          "base_uri": "https://localhost:8080/"
        },
        "id": "7llKU2df04as",
        "outputId": "aeafa885-ef75-4c8b-a103-0898db7e6cb9"
      },
      "execution_count": 15,
      "outputs": [
        {
          "output_type": "execute_result",
          "data": {
            "text/plain": [
              "<keras.layers.core.dense.Dense at 0x7fd453d8a440>"
            ]
          },
          "metadata": {},
          "execution_count": 15
        }
      ]
    },
    {
      "cell_type": "code",
      "source": [
        "##출력층 노드 = 2개 이상인 경우, softmax\n",
        "tf.keras.layers.Dense(10,activation='sigmoid')"
      ],
      "metadata": {
        "colab": {
          "base_uri": "https://localhost:8080/"
        },
        "id": "H9KzdGxr1Aci",
        "outputId": "c79a68c8-5416-4e57-b60a-6ed547e34d14"
      },
      "execution_count": 16,
      "outputs": [
        {
          "output_type": "execute_result",
          "data": {
            "text/plain": [
              "<keras.layers.core.dense.Dense at 0x7fd455e99b70>"
            ]
          },
          "metadata": {},
          "execution_count": 16
        }
      ]
    },
    {
      "cell_type": "markdown",
      "source": [
        "모델생성"
      ],
      "metadata": {
        "id": "_t89rK2931zL"
      }
    },
    {
      "cell_type": "code",
      "source": [
        "##가중치를 적용하지 않은 경우\n",
        "model = tf.keras.Sequential([tf.keras.layers.Flatten(input_shape = (28,28)),\n",
        "                             tf.keras.layers.Dense(64, activation = 'relu'),\n",
        "                             tf.keras.layers.Dense(32, activation = 'relu'),\n",
        "                             tf.keras.layers.Dense(10, activation = 'softmax')\n",
        "])\n",
        "model.summary()"
      ],
      "metadata": {
        "id": "z9s3SwYo2sJU",
        "colab": {
          "base_uri": "https://localhost:8080/"
        },
        "outputId": "4034ecee-b1f8-4011-f758-17f49ac8f7c3"
      },
      "execution_count": 17,
      "outputs": [
        {
          "output_type": "stream",
          "name": "stdout",
          "text": [
            "Model: \"sequential\"\n",
            "_________________________________________________________________\n",
            " Layer (type)                Output Shape              Param #   \n",
            "=================================================================\n",
            " flatten_1 (Flatten)         (None, 784)               0         \n",
            "                                                                 \n",
            " dense_6 (Dense)             (None, 64)                50240     \n",
            "                                                                 \n",
            " dense_7 (Dense)             (None, 32)                2080      \n",
            "                                                                 \n",
            " dense_8 (Dense)             (None, 10)                330       \n",
            "                                                                 \n",
            "=================================================================\n",
            "Total params: 52,650\n",
            "Trainable params: 52,650\n",
            "Non-trainable params: 0\n",
            "_________________________________________________________________\n"
          ]
        }
      ]
    },
    {
      "cell_type": "code",
      "source": [
        "adam = tf.keras.optimizers.Adam(lr=0.001)\n",
        "acc=tf.keras.metrics.SparseCategoricalAccuracy()\n",
        "model.compile(optimizer=adam, loss = 'sparse_categorical_crossentropy', metrics = ['accuracy'])"
      ],
      "metadata": {
        "colab": {
          "base_uri": "https://localhost:8080/"
        },
        "id": "Q0RJ-UD63Tgs",
        "outputId": "05374c46-9aa5-4763-cdc7-fc9436b41d44"
      },
      "execution_count": 18,
      "outputs": [
        {
          "output_type": "stream",
          "name": "stderr",
          "text": [
            "WARNING:absl:`lr` is deprecated in Keras optimizer, please use `learning_rate` or use the legacy optimizer, e.g.,tf.keras.optimizers.legacy.Adam.\n"
          ]
        }
      ]
    },
    {
      "cell_type": "markdown",
      "source": [
        "손실함수"
      ],
      "metadata": {
        "id": "X0PKcvXP34yb"
      }
    },
    {
      "cell_type": "code",
      "source": [
        "##출력 노드가 1개, sigmoid활성화 함수를 적용한 경우\n",
        "model.compile(loss='binary_crossentropy')"
      ],
      "metadata": {
        "id": "JDBpj1HT1Q3w"
      },
      "execution_count": 19,
      "outputs": []
    },
    {
      "cell_type": "code",
      "source": [
        "##출력 노드가 2개이상 softmax활성화 함수를 적용한 경우\n",
        "##y가 원 핫 벡터가 아닌 경우\n",
        "model.compile(loss='sparse_categorical_crossentropy')"
      ],
      "metadata": {
        "id": "pPIk1Xdb1mkh"
      },
      "execution_count": 20,
      "outputs": []
    },
    {
      "cell_type": "markdown",
      "source": [
        "옵티마이저: 손실으 낮추기 위해 신경망의 가중치와 학습률과 같은 신경망의 속성을 변경하는데 최적화 방법법"
      ],
      "metadata": {
        "id": "7hNjTJdS2GXd"
      }
    },
    {
      "cell_type": "code",
      "source": [
        "#클래스 인스턴스로 지정\n",
        "adam=tf.keras.optimizers.Adam(lr=0.001)\n",
        "model.compile(optimizer='adam',\n",
        "              loss = 'sparse_categorical_crossentropy',\n",
        "              metrics=['accuracy'])"
      ],
      "metadata": {
        "colab": {
          "base_uri": "https://localhost:8080/"
        },
        "id": "YouOLLLX2OCr",
        "outputId": "5c1ae63c-3dcb-4d3e-fb81-8ba1f29ef9b3"
      },
      "execution_count": 21,
      "outputs": [
        {
          "output_type": "stream",
          "name": "stderr",
          "text": [
            "WARNING:absl:`lr` is deprecated in Keras optimizer, please use `learning_rate` or use the legacy optimizer, e.g.,tf.keras.optimizers.legacy.Adam.\n"
          ]
        }
      ]
    },
    {
      "cell_type": "markdown",
      "source": [
        "모델 훈련시 훈련 데이터: x_train, y_train 검증 데이터: validation_data=(x_test,y_test)"
      ],
      "metadata": {
        "id": "2L0PQwcs4-FI"
      }
    },
    {
      "cell_type": "code",
      "source": [
        "history = model.fit(x_train,y_train, validation_data = (x_test, y_test), epochs = 10)"
      ],
      "metadata": {
        "colab": {
          "base_uri": "https://localhost:8080/"
        },
        "id": "U-USiqtG5Igw",
        "outputId": "bd3fc76b-5785-418f-eb5a-dc90e98a74e0"
      },
      "execution_count": 22,
      "outputs": [
        {
          "output_type": "stream",
          "name": "stdout",
          "text": [
            "Epoch 1/10\n",
            "1875/1875 [==============================] - 15s 3ms/step - loss: 1.7066 - accuracy: 0.7818 - val_loss: 0.5299 - val_accuracy: 0.8586\n",
            "Epoch 2/10\n",
            "1875/1875 [==============================] - 7s 3ms/step - loss: 0.3973 - accuracy: 0.8922 - val_loss: 0.3218 - val_accuracy: 0.9117\n",
            "Epoch 3/10\n",
            "1875/1875 [==============================] - 6s 3ms/step - loss: 0.2753 - accuracy: 0.9238 - val_loss: 0.2446 - val_accuracy: 0.9360\n",
            "Epoch 4/10\n",
            "1875/1875 [==============================] - 7s 4ms/step - loss: 0.2098 - accuracy: 0.9433 - val_loss: 0.2033 - val_accuracy: 0.9524\n",
            "Epoch 5/10\n",
            "1875/1875 [==============================] - 6s 3ms/step - loss: 0.1639 - accuracy: 0.9544 - val_loss: 0.1889 - val_accuracy: 0.9521\n",
            "Epoch 6/10\n",
            "1875/1875 [==============================] - 7s 4ms/step - loss: 0.1412 - accuracy: 0.9610 - val_loss: 0.1447 - val_accuracy: 0.9629\n",
            "Epoch 7/10\n",
            "1875/1875 [==============================] - 6s 3ms/step - loss: 0.1258 - accuracy: 0.9643 - val_loss: 0.2253 - val_accuracy: 0.9470\n",
            "Epoch 8/10\n",
            "1875/1875 [==============================] - 6s 3ms/step - loss: 0.1117 - accuracy: 0.9689 - val_loss: 0.1518 - val_accuracy: 0.9604\n",
            "Epoch 9/10\n",
            "1875/1875 [==============================] - 6s 3ms/step - loss: 0.1016 - accuracy: 0.9717 - val_loss: 0.1793 - val_accuracy: 0.9581\n",
            "Epoch 10/10\n",
            "1875/1875 [==============================] - 7s 4ms/step - loss: 0.0905 - accuracy: 0.9750 - val_loss: 0.1645 - val_accuracy: 0.9582\n"
          ]
        }
      ]
    },
    {
      "cell_type": "code",
      "source": [
        "###keral_initializer = 'he_normal'을 적용한 경우\n",
        "model_w_he = tf.keras.Sequential([tf.keras.layers.Flatten(input_shape = (28,28)),\n",
        "                             tf.keras.layers.Dense(64, kernel_initializer = 'he_normal',activation = 'relu'),\n",
        "                             tf.keras.layers.Dense(32, activation = 'relu'),\n",
        "                             tf.keras.layers.Dense(10, activation = 'softmax')\n",
        "])\n",
        "model_w_he.summary()"
      ],
      "metadata": {
        "colab": {
          "base_uri": "https://localhost:8080/"
        },
        "id": "eannlhUZcOCo",
        "outputId": "9d5ceaaa-20b0-493b-910c-59d71b6b34ea"
      },
      "execution_count": 23,
      "outputs": [
        {
          "output_type": "stream",
          "name": "stdout",
          "text": [
            "Model: \"sequential_1\"\n",
            "_________________________________________________________________\n",
            " Layer (type)                Output Shape              Param #   \n",
            "=================================================================\n",
            " flatten_2 (Flatten)         (None, 784)               0         \n",
            "                                                                 \n",
            " dense_9 (Dense)             (None, 64)                50240     \n",
            "                                                                 \n",
            " dense_10 (Dense)            (None, 32)                2080      \n",
            "                                                                 \n",
            " dense_11 (Dense)            (None, 10)                330       \n",
            "                                                                 \n",
            "=================================================================\n",
            "Total params: 52,650\n",
            "Trainable params: 52,650\n",
            "Non-trainable params: 0\n",
            "_________________________________________________________________\n"
          ]
        }
      ]
    },
    {
      "cell_type": "code",
      "source": [
        "model_w_he.compile(optimizer='adam',\n",
        "              loss = 'sparse_categorical_crossentropy',\n",
        "              metrics=['accuracy'])\n",
        "history_w_he = model_w_he.fit(x_train,y_train, validation_data = (x_test, y_test), epochs = 10)"
      ],
      "metadata": {
        "colab": {
          "base_uri": "https://localhost:8080/"
        },
        "id": "1AUoKDD4c_uH",
        "outputId": "23b70f50-b09e-43aa-a1d2-3ea1fcf4ae83"
      },
      "execution_count": 24,
      "outputs": [
        {
          "output_type": "stream",
          "name": "stdout",
          "text": [
            "Epoch 1/10\n",
            "1875/1875 [==============================] - 8s 4ms/step - loss: 1.9401 - accuracy: 0.7880 - val_loss: 0.5152 - val_accuracy: 0.8549\n",
            "Epoch 2/10\n",
            "1875/1875 [==============================] - 7s 4ms/step - loss: 0.3854 - accuracy: 0.8978 - val_loss: 0.3283 - val_accuracy: 0.9210\n",
            "Epoch 3/10\n",
            "1875/1875 [==============================] - 8s 4ms/step - loss: 0.2695 - accuracy: 0.9269 - val_loss: 0.2576 - val_accuracy: 0.9326\n",
            "Epoch 4/10\n",
            "1875/1875 [==============================] - 10s 5ms/step - loss: 0.2195 - accuracy: 0.9404 - val_loss: 0.2111 - val_accuracy: 0.9419\n",
            "Epoch 5/10\n",
            "1875/1875 [==============================] - 6s 3ms/step - loss: 0.1851 - accuracy: 0.9484 - val_loss: 0.2030 - val_accuracy: 0.9487\n",
            "Epoch 6/10\n",
            "1875/1875 [==============================] - 6s 3ms/step - loss: 0.1640 - accuracy: 0.9547 - val_loss: 0.1818 - val_accuracy: 0.9533\n",
            "Epoch 7/10\n",
            "1875/1875 [==============================] - 6s 3ms/step - loss: 0.1443 - accuracy: 0.9598 - val_loss: 0.1741 - val_accuracy: 0.9559\n",
            "Epoch 8/10\n",
            "1875/1875 [==============================] - 6s 3ms/step - loss: 0.1313 - accuracy: 0.9626 - val_loss: 0.1557 - val_accuracy: 0.9595\n",
            "Epoch 9/10\n",
            "1875/1875 [==============================] - 7s 4ms/step - loss: 0.1214 - accuracy: 0.9665 - val_loss: 0.1664 - val_accuracy: 0.9598\n",
            "Epoch 10/10\n",
            "1875/1875 [==============================] - 6s 3ms/step - loss: 0.1114 - accuracy: 0.9689 - val_loss: 0.1531 - val_accuracy: 0.9605\n"
          ]
        }
      ]
    },
    {
      "cell_type": "code",
      "source": [
        "##두 모델 비교 시각화\n",
        "plt.figure(figsize = (5,3))\n",
        "plt.plot(np.arange(1,11), history.history['val_loss'], color = 'navy', label = 'None')\n",
        "plt.plot(np.arange(1,11), history_w_he.history['val_loss'], color = 'tomato', label = 'He Initialization')\n",
        "plt.title(\"Losses\", fontsize = 20)\n",
        "plt.xlabel('epochs')\n",
        "plt.ylabel(\"Losses\")\n",
        "plt.legend()\n",
        "plt.show"
      ],
      "metadata": {
        "colab": {
          "base_uri": "https://localhost:8080/",
          "height": 359
        },
        "id": "FJcKsHlxd2RX",
        "outputId": "a1829a43-515c-479a-dc48-305bc37c957a"
      },
      "execution_count": 25,
      "outputs": [
        {
          "output_type": "execute_result",
          "data": {
            "text/plain": [
              "<function matplotlib.pyplot.show(close=None, block=None)>"
            ]
          },
          "metadata": {},
          "execution_count": 25
        },
        {
          "output_type": "display_data",
          "data": {
            "text/plain": [
              "<Figure size 500x300 with 1 Axes>"
            ],
            "image/png": "[encoded data removed]"
          },
          "metadata": {}
        }
      ]
    },
    {
      "cell_type": "code",
      "source": [
        "###keral_initializer = 'glorot_normal'을 적용한 경우\n",
        "model_w_gl = tf.keras.Sequential([tf.keras.layers.Flatten(input_shape = (28,28)),\n",
        "                             tf.keras.layers.Dense(64, kernel_initializer = 'glorot_normal',activation = 'sigmoid'),\n",
        "                             tf.keras.layers.Dense(32, activation = 'sigmoid'),\n",
        "                             tf.keras.layers.Dense(10, activation = 'softmax')\n",
        "])\n",
        "model_w_gl.summary()"
      ],
      "metadata": {
        "colab": {
          "base_uri": "https://localhost:8080/"
        },
        "id": "LPGtVDwmhYCW",
        "outputId": "a1b3e5ad-6f40-4536-df44-b551eea978bc"
      },
      "execution_count": 26,
      "outputs": [
        {
          "output_type": "stream",
          "name": "stdout",
          "text": [
            "Model: \"sequential_2\"\n",
            "_________________________________________________________________\n",
            " Layer (type)                Output Shape              Param #   \n",
            "=================================================================\n",
            " flatten_3 (Flatten)         (None, 784)               0         \n",
            "                                                                 \n",
            " dense_12 (Dense)            (None, 64)                50240     \n",
            "                                                                 \n",
            " dense_13 (Dense)            (None, 32)                2080      \n",
            "                                                                 \n",
            " dense_14 (Dense)            (None, 10)                330       \n",
            "                                                                 \n",
            "=================================================================\n",
            "Total params: 52,650\n",
            "Trainable params: 52,650\n",
            "Non-trainable params: 0\n",
            "_________________________________________________________________\n"
          ]
        }
      ]
    },
    {
      "cell_type": "code",
      "source": [
        "model_w_gl.compile(optimizer='adam',\n",
        "              loss = 'sparse_categorical_crossentropy',\n",
        "              metrics=['accuracy'])\n",
        "history_w_gl = model_w_gl.fit(x_train,y_train, validation_data = (x_test, y_test), epochs = 10)"
      ],
      "metadata": {
        "colab": {
          "base_uri": "https://localhost:8080/"
        },
        "id": "AL-Kpb3zhvaI",
        "outputId": "9d5ec20f-2cdb-49ea-95bc-b619aba94b85"
      },
      "execution_count": 27,
      "outputs": [
        {
          "output_type": "stream",
          "name": "stdout",
          "text": [
            "Epoch 1/10\n",
            "1875/1875 [==============================] - 8s 3ms/step - loss: 0.7660 - accuracy: 0.8084 - val_loss: 0.4010 - val_accuracy: 0.8821\n",
            "Epoch 2/10\n",
            "1875/1875 [==============================] - 6s 3ms/step - loss: 0.4008 - accuracy: 0.8829 - val_loss: 0.3599 - val_accuracy: 0.8907\n",
            "Epoch 3/10\n",
            "1875/1875 [==============================] - 7s 4ms/step - loss: 0.3632 - accuracy: 0.8902 - val_loss: 0.3283 - val_accuracy: 0.8988\n",
            "Epoch 4/10\n",
            "1875/1875 [==============================] - 6s 3ms/step - loss: 0.3333 - accuracy: 0.8986 - val_loss: 0.3205 - val_accuracy: 0.9023\n",
            "Epoch 5/10\n",
            "1875/1875 [==============================] - 6s 3ms/step - loss: 0.3283 - accuracy: 0.9002 - val_loss: 0.3200 - val_accuracy: 0.9023\n",
            "Epoch 6/10\n",
            "1875/1875 [==============================] - 6s 3ms/step - loss: 0.3138 - accuracy: 0.9034 - val_loss: 0.3131 - val_accuracy: 0.9077\n",
            "Epoch 7/10\n",
            "1875/1875 [==============================] - 6s 3ms/step - loss: 0.2919 - accuracy: 0.9110 - val_loss: 0.3053 - val_accuracy: 0.9051\n",
            "Epoch 8/10\n",
            "1875/1875 [==============================] - 6s 3ms/step - loss: 0.2738 - accuracy: 0.9161 - val_loss: 0.2894 - val_accuracy: 0.9129\n",
            "Epoch 9/10\n",
            "1875/1875 [==============================] - 6s 3ms/step - loss: 0.2684 - accuracy: 0.9172 - val_loss: 0.2639 - val_accuracy: 0.9177\n",
            "Epoch 10/10\n",
            "1875/1875 [==============================] - 6s 3ms/step - loss: 0.2645 - accuracy: 0.9195 - val_loss: 0.2701 - val_accuracy: 0.9193\n"
          ]
        }
      ]
    },
    {
      "cell_type": "code",
      "source": [
        "##세개 모델 비교 시각화\n",
        "plt.figure(figsize = (5,3))\n",
        "plt.plot(np.arange(1,11), history.history['val_loss'], color = 'navy', label = 'None')\n",
        "plt.plot(np.arange(1,11), history_w_he.history['val_loss'], color = 'tomato', label = 'He Initialization')\n",
        "plt.plot(np.arange(1,11), history_w_gl.history['val_loss'], color = 'green', label = 'Xavier Initialization')\n",
        "plt.title(\"Losses\", fontsize = 20)\n",
        "plt.xlabel('epochs')\n",
        "plt.ylabel(\"Losses\")\n",
        "plt.legend()\n",
        "plt.show"
      ],
      "metadata": {
        "colab": {
          "base_uri": "https://localhost:8080/",
          "height": 359
        },
        "id": "3HxbCUjrh_e7",
        "outputId": "7b140e19-6927-43ab-c4a0-4aa295e60ed1"
      },
      "execution_count": 28,
      "outputs": [
        {
          "output_type": "execute_result",
          "data": {
            "text/plain": [
              "<function matplotlib.pyplot.show(close=None, block=None)>"
            ]
          },
          "metadata": {},
          "execution_count": 28
        },
        {
          "output_type": "display_data",
          "data": {
            "text/plain": [
              "<Figure size 500x300 with 1 Axes>"
            ],
            "image/png": "[encoded data removed]"
          },
          "metadata": {}
        }
      ]
    },
    {
      "cell_type": "markdown",
      "source": [
        "규제(Regularization)\n",
        "\n",
        "1.   L1: 가중치의 절대값에 0.001을 곱하여 비용 추가, 0.001\n",
        "2.   L2: 가중치의 제곱에 0.001을 곱하여 비용 추가, 0.001\n",
        "\n"
      ],
      "metadata": {
        "id": "Ri-ZmCABjhcD"
      }
    },
    {
      "cell_type": "code",
      "source": [
        "regularizer2 = tf.keras.regularizers.l2(0.001)\n",
        "L2_model = tf.keras.Sequential([\n",
        "    tf.keras.layers.Flatten(input_shape=(28,28)),\n",
        "    tf.keras.layers.Dense(64,kernel_initializer = 'normal', kernel_regularizer = regularizer2, activation = 'relu'),\n",
        "    tf.keras.layers.Dense(32,kernel_initializer = 'normal', kernel_regularizer = regularizer2, activation = 'relu'),\n",
        "    tf.keras.layers.Dense(10, activation = 'softmax')\n",
        "])"
      ],
      "metadata": {
        "id": "P-F1xa0Sj1Fa"
      },
      "execution_count": 32,
      "outputs": []
    },
    {
      "cell_type": "code",
      "source": [
        "L2_model.compile(optimizer='adam',\n",
        "              loss = 'sparse_categorical_crossentropy',\n",
        "              metrics=['accuracy'])\n",
        "L2_model = L2_model.fit(x_train,y_train, validation_data = (x_test, y_test), epochs = 10)"
      ],
      "metadata": {
        "id": "IzBxMqxdk1CP",
        "colab": {
          "base_uri": "https://localhost:8080/"
        },
        "outputId": "1c9eec6a-cad9-4dae-bee9-95903fe52a03"
      },
      "execution_count": 33,
      "outputs": [
        {
          "output_type": "stream",
          "name": "stdout",
          "text": [
            "Epoch 1/10\n",
            "1875/1875 [==============================] - 8s 4ms/step - loss: 0.7383 - accuracy: 0.8482 - val_loss: 0.3657 - val_accuracy: 0.9201\n",
            "Epoch 2/10\n",
            "1875/1875 [==============================] - 6s 3ms/step - loss: 0.2946 - accuracy: 0.9391 - val_loss: 0.2528 - val_accuracy: 0.9482\n",
            "Epoch 3/10\n",
            "1875/1875 [==============================] - 7s 4ms/step - loss: 0.2354 - accuracy: 0.9526 - val_loss: 0.2347 - val_accuracy: 0.9507\n",
            "Epoch 4/10\n",
            "1875/1875 [==============================] - 6s 3ms/step - loss: 0.2086 - accuracy: 0.9585 - val_loss: 0.2145 - val_accuracy: 0.9598\n",
            "Epoch 5/10\n",
            "1875/1875 [==============================] - 7s 3ms/step - loss: 0.1972 - accuracy: 0.9605 - val_loss: 0.2273 - val_accuracy: 0.9550\n",
            "Epoch 6/10\n",
            "1875/1875 [==============================] - 9s 5ms/step - loss: 0.1854 - accuracy: 0.9646 - val_loss: 0.2063 - val_accuracy: 0.9604\n",
            "Epoch 7/10\n",
            "1875/1875 [==============================] - 10s 6ms/step - loss: 0.1821 - accuracy: 0.9656 - val_loss: 0.2104 - val_accuracy: 0.9552\n",
            "Epoch 8/10\n",
            "1875/1875 [==============================] - 11s 6ms/step - loss: 0.1761 - accuracy: 0.9670 - val_loss: 0.1996 - val_accuracy: 0.9634\n",
            "Epoch 9/10\n",
            "1875/1875 [==============================] - 11s 6ms/step - loss: 0.1761 - accuracy: 0.9677 - val_loss: 0.1790 - val_accuracy: 0.9655\n",
            "Epoch 10/10\n",
            "1875/1875 [==============================] - 8s 4ms/step - loss: 0.1732 - accuracy: 0.9683 - val_loss: 0.2033 - val_accuracy: 0.9591\n"
          ]
        }
      ]
    },
    {
      "cell_type": "code",
      "source": [
        "##L1규제\n",
        "regularizer1 = tf.keras.regularizers.l1(0.001)\n",
        "L1_model = tf.keras.Sequential([\n",
        "    tf.keras.layers.Flatten(input_shape=(28,28)),\n",
        "    tf.keras.layers.Dense(64,kernel_initializer = 'normal', kernel_regularizer = regularizer2, activation = 'relu'),\n",
        "    tf.keras.layers.Dense(32,kernel_initializer = 'normal', kernel_regularizer = regularizer2, activation = 'relu'),\n",
        "    tf.keras.layers.Dense(10, activation = 'softmax')\n",
        "])"
      ],
      "metadata": {
        "id": "-7XxRP7MxybQ"
      },
      "execution_count": 40,
      "outputs": []
    },
    {
      "cell_type": "code",
      "source": [
        "L1_model.compile(optimizer='adam',\n",
        "              loss = 'sparse_categorical_crossentropy',\n",
        "              metrics=['accuracy'])\n",
        "L1_model = L1_model.fit(x_train,y_train, validation_data = (x_test, y_test), epochs = 10)"
      ],
      "metadata": {
        "colab": {
          "base_uri": "https://localhost:8080/"
        },
        "id": "EDJ-aZWVx8hU",
        "outputId": "be481ddb-94cf-48e7-8a38-62333c4c9261"
      },
      "execution_count": 41,
      "outputs": [
        {
          "output_type": "stream",
          "name": "stdout",
          "text": [
            "Epoch 1/10\n",
            "1875/1875 [==============================] - 7s 3ms/step - loss: 0.7501 - accuracy: 0.8533 - val_loss: 0.3351 - val_accuracy: 0.9326\n",
            "Epoch 2/10\n",
            "1875/1875 [==============================] - 7s 4ms/step - loss: 0.3007 - accuracy: 0.9379 - val_loss: 0.2710 - val_accuracy: 0.9427\n",
            "Epoch 3/10\n",
            "1875/1875 [==============================] - 6s 3ms/step - loss: 0.2398 - accuracy: 0.9505 - val_loss: 0.2319 - val_accuracy: 0.9525\n",
            "Epoch 4/10\n",
            "1875/1875 [==============================] - 7s 4ms/step - loss: 0.2117 - accuracy: 0.9571 - val_loss: 0.2523 - val_accuracy: 0.9494\n",
            "Epoch 5/10\n",
            "1875/1875 [==============================] - 6s 3ms/step - loss: 0.1986 - accuracy: 0.9598 - val_loss: 0.2017 - val_accuracy: 0.9626\n",
            "Epoch 6/10\n",
            "1875/1875 [==============================] - 7s 4ms/step - loss: 0.1879 - accuracy: 0.9633 - val_loss: 0.2007 - val_accuracy: 0.9619\n",
            "Epoch 7/10\n",
            "1875/1875 [==============================] - 7s 4ms/step - loss: 0.1803 - accuracy: 0.9661 - val_loss: 0.1922 - val_accuracy: 0.9638\n",
            "Epoch 8/10\n",
            "1875/1875 [==============================] - 7s 4ms/step - loss: 0.1796 - accuracy: 0.9657 - val_loss: 0.1892 - val_accuracy: 0.9612\n",
            "Epoch 9/10\n",
            "1875/1875 [==============================] - 7s 4ms/step - loss: 0.1730 - accuracy: 0.9673 - val_loss: 0.2267 - val_accuracy: 0.9522\n",
            "Epoch 10/10\n",
            "1875/1875 [==============================] - 8s 4ms/step - loss: 0.1708 - accuracy: 0.9681 - val_loss: 0.1919 - val_accuracy: 0.9630\n"
          ]
        }
      ]
    },
    {
      "cell_type": "code",
      "source": [
        "#L1,L2규제 모델비교 시각화\n",
        "plt.figure(figsize = (5,3))\n",
        "plt.plot(np.arange(1,11), history.history['val_loss'], color = 'navy', label = 'None')\n",
        "plt.plot(np.arange(1,11), L1_model.history['val_loss'], color = 'green', label = 'L1 Regularization')\n",
        "plt.plot(np.arange(1,11), L2_model.history['val_loss'], color = 'tomato', label = 'L2 Regularization')\n",
        "plt.title(\"Losses\", fontsize = 20)\n",
        "plt.xlabel('epochs')\n",
        "plt.ylabel(\"Losses\")\n",
        "plt.legend()\n",
        "plt.show"
      ],
      "metadata": {
        "colab": {
          "base_uri": "https://localhost:8080/",
          "height": 359
        },
        "id": "NMBxNVTVxK9p",
        "outputId": "854aede0-d96b-4324-8eb1-93d2a580ec57"
      },
      "execution_count": 42,
      "outputs": [
        {
          "output_type": "execute_result",
          "data": {
            "text/plain": [
              "<function matplotlib.pyplot.show(close=None, block=None)>"
            ]
          },
          "metadata": {},
          "execution_count": 42
        },
        {
          "output_type": "display_data",
          "data": {
            "text/plain": [
              "<Figure size 500x300 with 1 Axes>"
            ],
            "image/png": "[encoded data removed]"
          },
          "metadata": {}
        }
      ]
    },
    {
      "cell_type": "markdown",
      "source": [
        "#4-3 드롭아웃(Dropout)\n",
        "1. 비율로 로드수를 줄이는 규제방법"
      ],
      "metadata": {
        "id": "MH6s63Pgyl9w"
      }
    },
    {
      "cell_type": "code",
      "source": [],
      "metadata": {
        "id": "bop960XbywxM"
      },
      "execution_count": null,
      "outputs": []
    },
    {
      "cell_type": "code",
      "source": [
        "#L1(0.01) + Dropout\n",
        "regularizer1 = tf.keras.regularizers.l1(0.001)\n",
        "droup_model = tf.keras.Sequential([tf.keras.layers.Flatten(input_shape=(28,28)),\n",
        "                                      tf.keras.layers.Dense(64,kernel_initializer = 'normal', kernel_regularizer = regularizer1, activation = 'relu'),\n",
        "                                      tf.keras.layers.Dropout(0,5),\n",
        "                                      tf.keras.layers.Dense(32,kernel_initializer = 'normal', kernel_regularizer = regularizer1, activation = 'relu'),\n",
        "                                      tf.keras.layers.Dropout(0,5),\n",
        "                                      tf.keras.layers.Dense(10,activation = 'softmax')\n",
        "                                      ])\n",
        "droup_model.summary()"
      ],
      "metadata": {
        "colab": {
          "base_uri": "https://localhost:8080/"
        },
        "id": "2_DP0tLXvraI",
        "outputId": "f8afe5d5-4ff9-4ca4-d60e-6581c6d1b89b"
      },
      "execution_count": 44,
      "outputs": [
        {
          "output_type": "stream",
          "name": "stdout",
          "text": [
            "Model: \"sequential_8\"\n",
            "_________________________________________________________________\n",
            " Layer (type)                Output Shape              Param #   \n",
            "=================================================================\n",
            " flatten_11 (Flatten)        (None, 784)               0         \n",
            "                                                                 \n",
            " dense_30 (Dense)            (None, 64)                50240     \n",
            "                                                                 \n",
            " dropout_6 (Dropout)         (None, 64)                0         \n",
            "                                                                 \n",
            " dense_31 (Dense)            (None, 32)                2080      \n",
            "                                                                 \n",
            " dropout_7 (Dropout)         (None, 32)                0         \n",
            "                                                                 \n",
            " dense_32 (Dense)            (None, 10)                330       \n",
            "                                                                 \n",
            "=================================================================\n",
            "Total params: 52,650\n",
            "Trainable params: 52,650\n",
            "Non-trainable params: 0\n",
            "_________________________________________________________________\n"
          ]
        }
      ]
    },
    {
      "cell_type": "code",
      "source": [
        "droup_model.compile(optimizer='adam',\n",
        "              loss = 'sparse_categorical_crossentropy',\n",
        "              metrics=['accuracy'])\n",
        "droup_model = droup_model.fit(x_train,y_train, validation_data = (x_test, y_test), epochs = 10)"
      ],
      "metadata": {
        "colab": {
          "base_uri": "https://localhost:8080/"
        },
        "id": "q0STetpNz-o9",
        "outputId": "363767d3-5986-428e-93bf-c845fdfec049"
      },
      "execution_count": 45,
      "outputs": [
        {
          "output_type": "stream",
          "name": "stdout",
          "text": [
            "Epoch 1/10\n",
            "1875/1875 [==============================] - 8s 4ms/step - loss: 1.7683 - accuracy: 0.8374 - val_loss: 0.9472 - val_accuracy: 0.9205\n",
            "Epoch 2/10\n",
            "1875/1875 [==============================] - 6s 3ms/step - loss: 0.7301 - accuracy: 0.9304 - val_loss: 0.5668 - val_accuracy: 0.9404\n",
            "Epoch 3/10\n",
            "1875/1875 [==============================] - 7s 4ms/step - loss: 0.5175 - accuracy: 0.9396 - val_loss: 0.5194 - val_accuracy: 0.9273\n",
            "Epoch 4/10\n",
            "1875/1875 [==============================] - 7s 4ms/step - loss: 0.4503 - accuracy: 0.9459 - val_loss: 0.4286 - val_accuracy: 0.9455\n",
            "Epoch 5/10\n",
            "1875/1875 [==============================] - 7s 4ms/step - loss: 0.4229 - accuracy: 0.9489 - val_loss: 0.4159 - val_accuracy: 0.9486\n",
            "Epoch 6/10\n",
            "1875/1875 [==============================] - 7s 4ms/step - loss: 0.4050 - accuracy: 0.9501 - val_loss: 0.3782 - val_accuracy: 0.9570\n",
            "Epoch 7/10\n",
            "1875/1875 [==============================] - 7s 4ms/step - loss: 0.4042 - accuracy: 0.9502 - val_loss: 0.4057 - val_accuracy: 0.9530\n",
            "Epoch 8/10\n",
            "1875/1875 [==============================] - 8s 4ms/step - loss: 0.3982 - accuracy: 0.9519 - val_loss: 0.3757 - val_accuracy: 0.9547\n",
            "Epoch 9/10\n",
            "1875/1875 [==============================] - 8s 4ms/step - loss: 0.3865 - accuracy: 0.9529 - val_loss: 0.4455 - val_accuracy: 0.9286\n",
            "Epoch 10/10\n",
            "1875/1875 [==============================] - 8s 4ms/step - loss: 0.3805 - accuracy: 0.9531 - val_loss: 0.3628 - val_accuracy: 0.9540\n"
          ]
        }
      ]
    },
    {
      "cell_type": "code",
      "source": [
        "plt.figure(figsize = (5,3))\n",
        "plt.plot(np.arange(1,11), history.history['val_loss'], color = 'green', label = 'None')\n",
        "plt.plot(np.arange(1,11), droup_model.history['val_loss'], color = 'red', label = 'L1+Dropout')\n",
        "plt.plot(np.arange(1,11), L1_model.history['val_loss'], color = 'navy', label = 'L1')\n",
        "plt.title(\"Losses\", fontsize = 20)\n",
        "plt.xlabel('epochs')\n",
        "plt.ylabel(\"Losses\")\n",
        "plt.legend()\n",
        "plt.show"
      ],
      "metadata": {
        "colab": {
          "base_uri": "https://localhost:8080/",
          "height": 359
        },
        "id": "5ut3zL4p0Pvs",
        "outputId": "14f169f7-e7a0-4366-cc53-3bf6859b0d50"
      },
      "execution_count": 46,
      "outputs": [
        {
          "output_type": "execute_result",
          "data": {
            "text/plain": [
              "<function matplotlib.pyplot.show(close=None, block=None)>"
            ]
          },
          "metadata": {},
          "execution_count": 46
        },
        {
          "output_type": "display_data",
          "data": {
            "text/plain": [
              "<Figure size 500x300 with 1 Axes>"
            ],
            "image/png": "[encoded data removed]"
          },
          "metadata": {}
        }
      ]
    },
    {
      "cell_type": "markdown",
      "source": [
        "#4-4 배치 정규화(Batch Normanlization)\n",
        "1. 각층에서 스케일을 조정"
      ],
      "metadata": {
        "id": "XXIunw9U1Cn9"
      }
    },
    {
      "cell_type": "code",
      "source": [
        "batch_model = tf.keras.Sequential([tf.keras.layers.Flatten(input_shape=(28,28)),\n",
        "                                   tf.keras.layers.Dense(64, activation = 'relu'),\n",
        "                                   tf.keras.layers.BatchNormalization(),\n",
        "                                   tf.keras.layers.Dense(32, activation = 'relu'),\n",
        "                                   tf.keras.layers.BatchNormalization(),\n",
        "                                   tf.keras.layers.Dense(10,activation = 'softmax')\n",
        "                                   ])"
      ],
      "metadata": {
        "id": "XoQjKJLn1K6U"
      },
      "execution_count": 47,
      "outputs": []
    },
    {
      "cell_type": "code",
      "source": [
        "batch_model.compile(optimizer='adam',\n",
        "                    loss = 'sparse_categorical_crossentropy',\n",
        "                    metrics=['accuracy'])\n",
        "batch_model = batch_model.fit(x_train,y_train, validation_data = (x_test, y_test), epochs = 10)"
      ],
      "metadata": {
        "colab": {
          "base_uri": "https://localhost:8080/"
        },
        "id": "KmsSr6Pq1wNE",
        "outputId": "4a6a8491-6db9-40b1-e92a-a9af38362b40"
      },
      "execution_count": 48,
      "outputs": [
        {
          "output_type": "stream",
          "name": "stdout",
          "text": [
            "Epoch 1/10\n",
            "1875/1875 [==============================] - 10s 4ms/step - loss: 0.3048 - accuracy: 0.9112 - val_loss: 0.1422 - val_accuracy: 0.9564\n",
            "Epoch 2/10\n",
            "1875/1875 [==============================] - 8s 4ms/step - loss: 0.1497 - accuracy: 0.9537 - val_loss: 0.1099 - val_accuracy: 0.9667\n",
            "Epoch 3/10\n",
            "1875/1875 [==============================] - 9s 5ms/step - loss: 0.1181 - accuracy: 0.9637 - val_loss: 0.1044 - val_accuracy: 0.9697\n",
            "Epoch 4/10\n",
            "1875/1875 [==============================] - 10s 5ms/step - loss: 0.1005 - accuracy: 0.9683 - val_loss: 0.0981 - val_accuracy: 0.9696\n",
            "Epoch 5/10\n",
            "1875/1875 [==============================] - 7s 4ms/step - loss: 0.0860 - accuracy: 0.9732 - val_loss: 0.0941 - val_accuracy: 0.9710\n",
            "Epoch 6/10\n",
            "1875/1875 [==============================] - 10s 5ms/step - loss: 0.0802 - accuracy: 0.9742 - val_loss: 0.0911 - val_accuracy: 0.9725\n",
            "Epoch 7/10\n",
            "1875/1875 [==============================] - 9s 5ms/step - loss: 0.0722 - accuracy: 0.9765 - val_loss: 0.0919 - val_accuracy: 0.9727\n",
            "Epoch 8/10\n",
            "1875/1875 [==============================] - 10s 5ms/step - loss: 0.0663 - accuracy: 0.9787 - val_loss: 0.0838 - val_accuracy: 0.9742\n",
            "Epoch 9/10\n",
            "1875/1875 [==============================] - 8s 4ms/step - loss: 0.0602 - accuracy: 0.9803 - val_loss: 0.0909 - val_accuracy: 0.9719\n",
            "Epoch 10/10\n",
            "1875/1875 [==============================] - 8s 4ms/step - loss: 0.0560 - accuracy: 0.9819 - val_loss: 0.0966 - val_accuracy: 0.9726\n"
          ]
        }
      ]
    },
    {
      "cell_type": "code",
      "source": [
        "plt.figure(figsize = (5,3))\n",
        "plt.plot(np.arange(1,11), history.history['val_loss'], color = 'green', label = 'None')\n",
        "plt.plot(np.arange(1,11), batch_model.history['val_loss'], color = 'red', label = 'BatchNormal+RELU')\n",
        "plt.title(\"Losses\", fontsize = 20)\n",
        "plt.xlabel('epochs')\n",
        "plt.ylabel(\"Losses\")\n",
        "plt.legend()\n",
        "plt.show"
      ],
      "metadata": {
        "colab": {
          "base_uri": "https://localhost:8080/",
          "height": 359
        },
        "id": "XQcpUpC22EUG",
        "outputId": "37704398-ea49-4d27-d95d-53a8e22db03f"
      },
      "execution_count": 49,
      "outputs": [
        {
          "output_type": "execute_result",
          "data": {
            "text/plain": [
              "<function matplotlib.pyplot.show(close=None, block=None)>"
            ]
          },
          "metadata": {},
          "execution_count": 49
        },
        {
          "output_type": "display_data",
          "data": {
            "text/plain": [
              "<Figure size 500x300 with 1 Axes>"
            ],
            "image/png": "[encoded data removed]"
          },
          "metadata": {}
        }
      ]
    },
    {
      "cell_type": "markdown",
      "source": [
        "#4-5 활성화 함수\n",
        "1. Relu\n",
        "2. LeakyRelu"
      ],
      "metadata": {
        "id": "4l69eRZr2dKd"
      }
    },
    {
      "cell_type": "code",
      "source": [
        "##Batch Normalization + ReakyReLU\n",
        "Leaky_model = tf.keras.Sequential([tf.keras.layers.Flatten(input_shape=(28,28)),\n",
        "                                   tf.keras.layers.Dense(64),\n",
        "                                   tf.keras.layers.BatchNormalization(),\n",
        "                                   tf.keras.layers.LeakyReLU(alpha=0.2),\n",
        "                                   tf.keras.layers.Dense(32),\n",
        "                                   tf.keras.layers.BatchNormalization(),\n",
        "                                   tf.keras.layers.LeakyReLU(alpha=0.2),\n",
        "                                   tf.keras.layers.Dense(10,activation = 'softmax')\n",
        "                                   ])"
      ],
      "metadata": {
        "id": "qoAkIoGg2lWc"
      },
      "execution_count": 52,
      "outputs": []
    },
    {
      "cell_type": "code",
      "source": [
        "Leaky_model.compile(optimizer='adam',\n",
        "                    loss = 'sparse_categorical_crossentropy',\n",
        "                    metrics=['accuracy'])\n",
        "Leaky_model = Leaky_model.fit(x_train,y_train, validation_data = (x_test, y_test), epochs = 10)"
      ],
      "metadata": {
        "colab": {
          "base_uri": "https://localhost:8080/"
        },
        "id": "TcaJfabZ3TJZ",
        "outputId": "cd690a0f-b1c8-4585-e17c-e70bc0807380"
      },
      "execution_count": 53,
      "outputs": [
        {
          "output_type": "stream",
          "name": "stdout",
          "text": [
            "Epoch 1/10\n",
            "1875/1875 [==============================] - 13s 5ms/step - loss: 0.3223 - accuracy: 0.9118 - val_loss: 0.1438 - val_accuracy: 0.9589\n",
            "Epoch 2/10\n",
            "1875/1875 [==============================] - 9s 5ms/step - loss: 0.1578 - accuracy: 0.9527 - val_loss: 0.1140 - val_accuracy: 0.9648\n",
            "Epoch 3/10\n",
            "1875/1875 [==============================] - 8s 4ms/step - loss: 0.1233 - accuracy: 0.9618 - val_loss: 0.1044 - val_accuracy: 0.9679\n",
            "Epoch 4/10\n",
            "1875/1875 [==============================] - 8s 4ms/step - loss: 0.1065 - accuracy: 0.9661 - val_loss: 0.0909 - val_accuracy: 0.9727\n",
            "Epoch 5/10\n",
            "1875/1875 [==============================] - 10s 5ms/step - loss: 0.0941 - accuracy: 0.9704 - val_loss: 0.0923 - val_accuracy: 0.9721\n",
            "Epoch 6/10\n",
            "1875/1875 [==============================] - 8s 4ms/step - loss: 0.0868 - accuracy: 0.9725 - val_loss: 0.0934 - val_accuracy: 0.9725\n",
            "Epoch 7/10\n",
            "1875/1875 [==============================] - 8s 4ms/step - loss: 0.0766 - accuracy: 0.9757 - val_loss: 0.0896 - val_accuracy: 0.9735\n",
            "Epoch 8/10\n",
            "1875/1875 [==============================] - 9s 5ms/step - loss: 0.0710 - accuracy: 0.9768 - val_loss: 0.0887 - val_accuracy: 0.9736\n",
            "Epoch 9/10\n",
            "1875/1875 [==============================] - 7s 4ms/step - loss: 0.0718 - accuracy: 0.9768 - val_loss: 0.0881 - val_accuracy: 0.9739\n",
            "Epoch 10/10\n",
            "1875/1875 [==============================] - 9s 5ms/step - loss: 0.0646 - accuracy: 0.9789 - val_loss: 0.0872 - val_accuracy: 0.9738\n"
          ]
        }
      ]
    },
    {
      "cell_type": "code",
      "source": [
        "plt.figure(figsize = (5,3))\n",
        "plt.plot(np.arange(1,11), history.history['val_loss'], color = 'green', label = 'ReLU')\n",
        "plt.plot(np.arange(1,11), batch_model.history['val_loss'], color = 'red', label = 'BatchNormal+RELU')\n",
        "plt.plot(np.arange(1,11), Leaky_model.history['val_loss'], color = 'blue', label = 'BatchNormal+LeakyRELU')\n",
        "plt.title(\"Losses\", fontsize = 20)\n",
        "plt.xlabel('epochs')\n",
        "plt.ylabel(\"Losses\")\n",
        "plt.legend()\n",
        "plt.show"
      ],
      "metadata": {
        "colab": {
          "base_uri": "https://localhost:8080/",
          "height": 359
        },
        "id": "RB78cdRL3btw",
        "outputId": "44bc5da9-5e0d-4628-b130-9a30558d0a2f"
      },
      "execution_count": 54,
      "outputs": [
        {
          "output_type": "execute_result",
          "data": {
            "text/plain": [
              "<function matplotlib.pyplot.show(close=None, block=None)>"
            ]
          },
          "metadata": {},
          "execution_count": 54
        },
        {
          "output_type": "display_data",
          "data": {
            "text/plain": [
              "<Figure size 500x300 with 1 Axes>"
            ],
            "image/png": "[encoded data removed]"
          },
          "metadata": {}
        }
      ]
    },
    {
      "cell_type": "code",
      "source": [
        "##검증\n",
        "model.evaluate(x_test,y_test)"
      ],
      "metadata": {
        "id": "7ud40XQd535a"
      },
      "execution_count": null,
      "outputs": []
    },
    {
      "cell_type": "code",
      "source": [
        "##검증결과 저장\n",
        "test_loss, test_acc = model.evaluate(x_test, y_test)\n",
        "\n",
        "print('검증셋 정확도: ', test_acc)"
      ],
      "metadata": {
        "id": "vDYCCc0P581D"
      },
      "execution_count": null,
      "outputs": []
    },
    {
      "cell_type": "code",
      "source": [
        "predictions = model.predict(x_test)\n",
        "predictions[0]"
      ],
      "metadata": {
        "id": "JhHn00OH6Mv8"
      },
      "execution_count": null,
      "outputs": []
    },
    {
      "cell_type": "code",
      "source": [
        "predictions[0].max()"
      ],
      "metadata": {
        "id": "OFVWfwXt6VrW"
      },
      "execution_count": null,
      "outputs": []
    },
    {
      "cell_type": "code",
      "source": [
        "np.argmax(predictions[0])"
      ],
      "metadata": {
        "id": "6o6NennB6ar-"
      },
      "execution_count": null,
      "outputs": []
    },
    {
      "cell_type": "code",
      "source": [
        "def get_one_result(idx):\n",
        "    img, y_true, y_pred, confidence = x_test[idx], y_test[idx],np.argmax(predictions[idx]), 100*np.max(predictions[idx])\n",
        "    return img,y_true,y_pred,confidence"
      ],
      "metadata": {
        "id": "Sxzsxk237nOl"
      },
      "execution_count": null,
      "outputs": []
    },
    {
      "cell_type": "code",
      "source": [
        "fig,axes = plt.subplots(3,5)\n",
        "fig.set_size_inches(12,10)\n",
        "\n",
        "for i in range(15):\n",
        "    ax = axes[i//5, i%5]\n",
        "    img, y_true, y_pred, confidence = get_one_result(i)\n",
        "    ax.imshow(x_train[i], cmap = 'gray')\n",
        "    #x,y축 눈금\n",
        "    ax.set_xticks([])\n",
        "    ax.set_yticks([])\n",
        "    ax.set_title(f'True : {y_true}', fontsize=12)\n",
        "    ax.set_xlabel(f'Prediction : {y_pred}\\nContidence :( {confidence:.2f}%)',fontsize = 10)\n",
        "plt.tight_layout()\n",
        "plt.show()"
      ],
      "metadata": {
        "id": "Zav1oJjl8Dri"
      },
      "execution_count": null,
      "outputs": []
    }
  ]
}