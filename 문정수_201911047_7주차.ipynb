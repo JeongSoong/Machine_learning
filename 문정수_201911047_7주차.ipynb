{
  "nbformat": 4,
  "nbformat_minor": 0,
  "metadata": {
    "colab": {
      "provenance": [],
      "authorship_tag": "ABX9TyOcqZIEtKM48/g9aU9hbNbr",
      "include_colab_link": true
    },
    "kernelspec": {
      "name": "python3",
      "display_name": "Python 3"
    },
    "language_info": {
      "name": "python"
    }
  },
  "cells": [
    {
      "cell_type": "markdown",
      "metadata": {
        "id": "view-in-github",
        "colab_type": "text"
      },
      "source": [
        "<a href=\"https://colab.research.google.com/github/JeongSoong/Machine_learning/blob/main/%EB%AC%B8%EC%A0%95%EC%88%98_201911047_7%EC%A3%BC%EC%B0%A8.ipynb\" target=\"_parent\"><img src=\"https://colab.research.google.com/assets/colab-badge.svg\" alt=\"Open In Colab\"/></a>"
      ]
    },
    {
      "cell_type": "markdown",
      "source": [
        "심층 신경망으로 이미지 분류류\n",
        "\n",
        "1.   이미지 데이터셋 로드\n",
        "2.   이미지 데이터 정규화: 수렴속도 증가\n",
        "3.   DenseLayer에 입력하기 위한 차원축소:reshape().shape\n",
        "4.   모델 생성(DenseLayer(노드수,활성화 함수))\n",
        "5.   compile(): 컴파일(옵티마이저,손실함수,평가지표)\n",
        "6.   fit(): 훈련\n",
        "7.   evaluate(): 검증\n",
        "8.   predict(): 예측\n",
        "\n"
      ],
      "metadata": {
        "id": "5jeaf4Wat4Y9"
      }
    },
    {
      "cell_type": "code",
      "execution_count": 148,
      "metadata": {
        "id": "zqqQ5shPlqTP"
      },
      "outputs": [],
      "source": [
        "import tensorflow as tf\n",
        "import numpy as np\n",
        "import matplotlib.pyplot as plt"
      ]
    },
    {
      "cell_type": "code",
      "source": [
        "##1. 케라스 내장 데이터셋 업로드\n",
        "mnist = tf.keras.datasets.mnist"
      ],
      "metadata": {
        "id": "FemhWMGpwxUk"
      },
      "execution_count": 149,
      "outputs": []
    },
    {
      "cell_type": "code",
      "source": [
        "(x_train, y_train), (x_test, y_test) = mnist.load_data()"
      ],
      "metadata": {
        "id": "fvO5l1g6w9s7"
      },
      "execution_count": 150,
      "outputs": []
    },
    {
      "cell_type": "markdown",
      "source": [
        "가중치 초기화"
      ],
      "metadata": {
        "id": "M1Gprj50ZqV4"
      }
    },
    {
      "cell_type": "code",
      "source": [
        "##kernel_initializer = 'uniform'\n",
        "dense = tf.keras.layers.Dense(256,kernel_initializer = 'uniform', activation = 'relu')"
      ],
      "metadata": {
        "id": "DyOJmCePZpQ3"
      },
      "execution_count": 151,
      "outputs": []
    },
    {
      "cell_type": "code",
      "source": [
        "##kernel_initializer = 'normal'\n",
        "dense = tf.keras.layers.Dense(256,kernel_initializer = 'normal', activation = 'relu')"
      ],
      "metadata": {
        "id": "-q7pTnrFaHbm"
      },
      "execution_count": 152,
      "outputs": []
    },
    {
      "cell_type": "code",
      "source": [
        "##kernel_initializer = 'he_normal'\n",
        "dense = tf.keras.layers.Dense(256,kernel_initializer = 'he_normal', activation = 'relu')"
      ],
      "metadata": {
        "id": "c6RjZDkPaZBZ"
      },
      "execution_count": 153,
      "outputs": []
    },
    {
      "cell_type": "code",
      "source": [
        "print(\"train set: \", x_train.shape, y_train.shape)\n",
        "print(\"test set: \", x_test.shape, x_test.shape)"
      ],
      "metadata": {
        "colab": {
          "base_uri": "https://localhost:8080/"
        },
        "id": "ye-MKVcIxK_H",
        "outputId": "95b2628c-1e6f-4841-ba6e-ec87000d4c11"
      },
      "execution_count": 154,
      "outputs": [
        {
          "output_type": "stream",
          "name": "stdout",
          "text": [
            "train set:  (60000, 28, 28) (60000,)\n",
            "test set:  (10000, 28, 28) (10000, 28, 28)\n"
          ]
        }
      ]
    },
    {
      "cell_type": "code",
      "source": [
        "##훈련용 데이터 시각화\n",
        "fig,axes = plt.subplots(3,5)\n",
        "fig.set_size_inches(8,5)\n",
        "\n",
        "for i in range(15):\n",
        "    ax = axes[i//5, i%5]\n",
        "    ax.imshow(x_train[i], cmap = 'gray')\n",
        "    ax.axis('off')\n",
        "    ax.set_title(str(y_train[i]))\n",
        "\n",
        "plt.tight_layout()\n",
        "plt.show()"
      ],
      "metadata": {
        "colab": {
          "base_uri": "https://localhost:8080/",
          "height": 427
        },
        "id": "AblR7S0-xZjI",
        "outputId": "50c98cb3-d0a2-4910-c3ea-3c0889fbdd8a"
      },
      "execution_count": 155,
      "outputs": [
        {
          "output_type": "display_data",
          "data": {
            "text/plain": [
              "<Figure size 800x500 with 15 Axes>"
            ],
            "image/png": "[encoded data removed]"
          },
          "metadata": {}
        }
      ]
    },
    {
      "cell_type": "code",
      "source": [
        "x_train[0, 10:15, 10:15]"
      ],
      "metadata": {
        "colab": {
          "base_uri": "https://localhost:8080/"
        },
        "id": "F3JMO2VXzGBU",
        "outputId": "ea122b9b-29a7-44cb-a4ed-a73cb7760f3e"
      },
      "execution_count": 156,
      "outputs": [
        {
          "output_type": "execute_result",
          "data": {
            "text/plain": [
              "array([[  1, 154, 253,  90,   0],\n",
              "       [  0, 139, 253, 190,   2],\n",
              "       [  0,  11, 190, 253,  70],\n",
              "       [  0,   0,  35, 241, 225],\n",
              "       [  0,   0,   0,  81, 240]], dtype=uint8)"
            ]
          },
          "metadata": {},
          "execution_count": 156
        }
      ]
    },
    {
      "cell_type": "markdown",
      "source": [
        "2.데이터 정규화"
      ],
      "metadata": {
        "id": "l2XllH9GzZaB"
      }
    },
    {
      "cell_type": "code",
      "source": [
        "##정규화: 0~1사이 값으로 변환, 최대값으로 나눈다.\n",
        "x_train_n = x_train/x_train.max()"
      ],
      "metadata": {
        "id": "VxxnYcKgzcwy"
      },
      "execution_count": 157,
      "outputs": []
    },
    {
      "cell_type": "code",
      "source": [
        "x_train_n[0, 10:15, 10:15]"
      ],
      "metadata": {
        "colab": {
          "base_uri": "https://localhost:8080/"
        },
        "id": "zms_Sl0dznmY",
        "outputId": "705b49b8-a420-4ca1-909f-62a80ae075ac"
      },
      "execution_count": 158,
      "outputs": [
        {
          "output_type": "execute_result",
          "data": {
            "text/plain": [
              "array([[0.00392157, 0.60392157, 0.99215686, 0.35294118, 0.        ],\n",
              "       [0.        , 0.54509804, 0.99215686, 0.74509804, 0.00784314],\n",
              "       [0.        , 0.04313725, 0.74509804, 0.99215686, 0.2745098 ],\n",
              "       [0.        , 0.        , 0.1372549 , 0.94509804, 0.88235294],\n",
              "       [0.        , 0.        , 0.        , 0.31764706, 0.94117647]])"
            ]
          },
          "metadata": {},
          "execution_count": 158
        }
      ]
    },
    {
      "cell_type": "markdown",
      "source": [
        "3. 차원축소"
      ],
      "metadata": {
        "id": "77o_Y1whz9lg"
      }
    },
    {
      "cell_type": "code",
      "source": [
        "##차원 축소\n",
        "x_train.reshape(60000,-1).shape"
      ],
      "metadata": {
        "colab": {
          "base_uri": "https://localhost:8080/"
        },
        "id": "cYt4TTejz1i3",
        "outputId": "3ce4e20e-20e8-4f98-fa14-a0ed1019281d"
      },
      "execution_count": 159,
      "outputs": [
        {
          "output_type": "execute_result",
          "data": {
            "text/plain": [
              "(60000, 784)"
            ]
          },
          "metadata": {},
          "execution_count": 159
        }
      ]
    },
    {
      "cell_type": "code",
      "source": [
        "tf.keras.layers.Flatten()(x_train).shape"
      ],
      "metadata": {
        "colab": {
          "base_uri": "https://localhost:8080/"
        },
        "id": "eUg1oZ-40GQq",
        "outputId": "28ad6e22-581a-4d8a-c47a-8ab9ca8021c2"
      },
      "execution_count": 160,
      "outputs": [
        {
          "output_type": "execute_result",
          "data": {
            "text/plain": [
              "TensorShape([60000, 784])"
            ]
          },
          "metadata": {},
          "execution_count": 160
        }
      ]
    },
    {
      "cell_type": "markdown",
      "source": [
        "활성화 함수; 출력 함수"
      ],
      "metadata": {
        "id": "yZHNBbLx0OoO"
      }
    },
    {
      "cell_type": "code",
      "source": [
        "tf.keras.layers.Dense(128, activation='relu')"
      ],
      "metadata": {
        "colab": {
          "base_uri": "https://localhost:8080/"
        },
        "id": "-o1G_eBI0RT1",
        "outputId": "2364058b-5e08-4556-a966-6742808ce385"
      },
      "execution_count": 161,
      "outputs": [
        {
          "output_type": "execute_result",
          "data": {
            "text/plain": [
              "<keras.layers.core.dense.Dense at 0x7f78afc77c10>"
            ]
          },
          "metadata": {},
          "execution_count": 161
        }
      ]
    },
    {
      "cell_type": "markdown",
      "source": [
        "입력과 출력"
      ],
      "metadata": {
        "id": "i8gbED3g03DZ"
      }
    },
    {
      "cell_type": "code",
      "source": [
        "##출력층이 1인 경우: sigmoid\n",
        "tf.keras.layers.Dense(1, activation = 'sigmoid')"
      ],
      "metadata": {
        "colab": {
          "base_uri": "https://localhost:8080/"
        },
        "id": "7llKU2df04as",
        "outputId": "c8ab27ea-cae1-4a49-dd5f-659d0e9bcf5f"
      },
      "execution_count": 162,
      "outputs": [
        {
          "output_type": "execute_result",
          "data": {
            "text/plain": [
              "<keras.layers.core.dense.Dense at 0x7f78afc77df0>"
            ]
          },
          "metadata": {},
          "execution_count": 162
        }
      ]
    },
    {
      "cell_type": "code",
      "source": [
        "##출력층 노드 = 2개 이상인 경우, softmax\n",
        "tf.keras.layers.Dense(10,activation='sigmoid')"
      ],
      "metadata": {
        "colab": {
          "base_uri": "https://localhost:8080/"
        },
        "id": "H9KzdGxr1Aci",
        "outputId": "9e612fc1-d55c-4e4d-a1cc-a04099d82513"
      },
      "execution_count": 163,
      "outputs": [
        {
          "output_type": "execute_result",
          "data": {
            "text/plain": [
              "<keras.layers.core.dense.Dense at 0x7f78afc774c0>"
            ]
          },
          "metadata": {},
          "execution_count": 163
        }
      ]
    },
    {
      "cell_type": "markdown",
      "source": [
        "모델생성"
      ],
      "metadata": {
        "id": "_t89rK2931zL"
      }
    },
    {
      "cell_type": "code",
      "source": [
        "##가중치를 적용하지 않은 경우\n",
        "model = tf.keras.Sequential([tf.keras.layers.Flatten(input_shape = (28,28)),\n",
        "                             tf.keras.layers.Dense(64, activation = 'relu'),\n",
        "                             tf.keras.layers.Dense(32, activation = 'relu'),\n",
        "                             tf.keras.layers.Dense(10, activation = 'softmax')\n",
        "])\n",
        "model.summary()"
      ],
      "metadata": {
        "id": "z9s3SwYo2sJU",
        "colab": {
          "base_uri": "https://localhost:8080/"
        },
        "outputId": "dc96d6b0-2017-4a95-be99-c9a20ca6b003"
      },
      "execution_count": 164,
      "outputs": [
        {
          "output_type": "stream",
          "name": "stdout",
          "text": [
            "Model: \"sequential_10\"\n",
            "_________________________________________________________________\n",
            " Layer (type)                Output Shape              Param #   \n",
            "=================================================================\n",
            " flatten_16 (Flatten)        (None, 784)               0         \n",
            "                                                                 \n",
            " dense_72 (Dense)            (None, 64)                50240     \n",
            "                                                                 \n",
            " dense_73 (Dense)            (None, 32)                2080      \n",
            "                                                                 \n",
            " dense_74 (Dense)            (None, 10)                330       \n",
            "                                                                 \n",
            "=================================================================\n",
            "Total params: 52,650\n",
            "Trainable params: 52,650\n",
            "Non-trainable params: 0\n",
            "_________________________________________________________________\n"
          ]
        }
      ]
    },
    {
      "cell_type": "code",
      "source": [
        "adam = tf.keras.optimizers.Adam(lr=0.001)\n",
        "acc=tf.keras.metrics.SparseCategoricalAccuracy()\n",
        "model.compile(optimizer=adam, loss = 'sparse_categorical_crossentropy', metrics = ['accuracy'])"
      ],
      "metadata": {
        "colab": {
          "base_uri": "https://localhost:8080/"
        },
        "id": "Q0RJ-UD63Tgs",
        "outputId": "50fac2a8-384f-4657-ea1f-13d5b1ff343f"
      },
      "execution_count": 165,
      "outputs": [
        {
          "output_type": "stream",
          "name": "stderr",
          "text": [
            "WARNING:absl:`lr` is deprecated in Keras optimizer, please use `learning_rate` or use the legacy optimizer, e.g.,tf.keras.optimizers.legacy.Adam.\n"
          ]
        }
      ]
    },
    {
      "cell_type": "markdown",
      "source": [
        "손실함수"
      ],
      "metadata": {
        "id": "X0PKcvXP34yb"
      }
    },
    {
      "cell_type": "code",
      "source": [
        "##출력 노드가 1개, sigmoid활성화 함수를 적용한 경우\n",
        "model.compile(loss='binary_crossentropy')"
      ],
      "metadata": {
        "id": "JDBpj1HT1Q3w"
      },
      "execution_count": 166,
      "outputs": []
    },
    {
      "cell_type": "code",
      "source": [
        "##출력 노드가 2개이상 softmax활성화 함수를 적용한 경우\n",
        "##y가 원 핫 벡터가 아닌 경우\n",
        "model.compile(loss='sparse_categorical_crossentropy')"
      ],
      "metadata": {
        "id": "pPIk1Xdb1mkh"
      },
      "execution_count": 167,
      "outputs": []
    },
    {
      "cell_type": "markdown",
      "source": [
        "옵티마이저: 손실으 낮추기 위해 신경망의 가중치와 학습률과 같은 신경망의 속성을 변경하는데 최적화 방법법"
      ],
      "metadata": {
        "id": "7hNjTJdS2GXd"
      }
    },
    {
      "cell_type": "code",
      "source": [
        "#클래스 인스턴스로 지정\n",
        "adam=tf.keras.optimizers.Adam(lr=0.001)\n",
        "model.compile(optimizer='adam',\n",
        "              loss = 'sparse_categorical_crossentropy',\n",
        "              metrics=['accuracy'])"
      ],
      "metadata": {
        "colab": {
          "base_uri": "https://localhost:8080/"
        },
        "id": "YouOLLLX2OCr",
        "outputId": "0eb2f4e6-b81e-4be9-df9e-70bfbc4d3539"
      },
      "execution_count": 168,
      "outputs": [
        {
          "output_type": "stream",
          "name": "stderr",
          "text": [
            "WARNING:absl:`lr` is deprecated in Keras optimizer, please use `learning_rate` or use the legacy optimizer, e.g.,tf.keras.optimizers.legacy.Adam.\n"
          ]
        }
      ]
    },
    {
      "cell_type": "markdown",
      "source": [
        "모델 훈련시 훈련 데이터: x_train, y_train 검증 데이터: validation_data=(x_test,y_test)"
      ],
      "metadata": {
        "id": "2L0PQwcs4-FI"
      }
    },
    {
      "cell_type": "code",
      "source": [
        "history = model.fit(x_train,y_train, validation_data = (x_test, y_test), epochs = 10)"
      ],
      "metadata": {
        "colab": {
          "base_uri": "https://localhost:8080/"
        },
        "id": "U-USiqtG5Igw",
        "outputId": "a9ecd1f3-4fad-4abb-febc-df9c901468b1"
      },
      "execution_count": 169,
      "outputs": [
        {
          "output_type": "stream",
          "name": "stdout",
          "text": [
            "Epoch 1/10\n",
            "1875/1875 [==============================] - 10s 5ms/step - loss: 1.3077 - accuracy: 0.7792 - val_loss: 0.4502 - val_accuracy: 0.8883\n",
            "Epoch 2/10\n",
            "1875/1875 [==============================] - 7s 4ms/step - loss: 0.3909 - accuracy: 0.9000 - val_loss: 0.3252 - val_accuracy: 0.9159\n",
            "Epoch 3/10\n",
            "1875/1875 [==============================] - 8s 4ms/step - loss: 0.2671 - accuracy: 0.9279 - val_loss: 0.2456 - val_accuracy: 0.9349\n",
            "Epoch 4/10\n",
            "1875/1875 [==============================] - 7s 4ms/step - loss: 0.2170 - accuracy: 0.9420 - val_loss: 0.1949 - val_accuracy: 0.9460\n",
            "Epoch 5/10\n",
            "1875/1875 [==============================] - 7s 4ms/step - loss: 0.1753 - accuracy: 0.9526 - val_loss: 0.1876 - val_accuracy: 0.9531\n",
            "Epoch 6/10\n",
            "1875/1875 [==============================] - 8s 4ms/step - loss: 0.1537 - accuracy: 0.9575 - val_loss: 0.1833 - val_accuracy: 0.9546\n",
            "Epoch 7/10\n",
            "1875/1875 [==============================] - 7s 4ms/step - loss: 0.1344 - accuracy: 0.9636 - val_loss: 0.1713 - val_accuracy: 0.9609\n",
            "Epoch 8/10\n",
            "1875/1875 [==============================] - 8s 4ms/step - loss: 0.1193 - accuracy: 0.9681 - val_loss: 0.1958 - val_accuracy: 0.9572\n",
            "Epoch 9/10\n",
            "1875/1875 [==============================] - 7s 4ms/step - loss: 0.1146 - accuracy: 0.9689 - val_loss: 0.1863 - val_accuracy: 0.9577\n",
            "Epoch 10/10\n",
            "1875/1875 [==============================] - 9s 5ms/step - loss: 0.1080 - accuracy: 0.9708 - val_loss: 0.1694 - val_accuracy: 0.9649\n"
          ]
        }
      ]
    },
    {
      "cell_type": "code",
      "source": [
        "###keral_initializer = 'he_normal'을 적용한 경우\n",
        "model_w_he = tf.keras.Sequential([tf.keras.layers.Flatten(input_shape = (28,28)),\n",
        "                             tf.keras.layers.Dense(64, kernel_initializer = 'he_normal',activation = 'relu'),\n",
        "                             tf.keras.layers.Dense(32, activation = 'relu'),\n",
        "                             tf.keras.layers.Dense(10, activation = 'softmax')\n",
        "])\n",
        "model_w_he.summary()"
      ],
      "metadata": {
        "colab": {
          "base_uri": "https://localhost:8080/"
        },
        "id": "eannlhUZcOCo",
        "outputId": "08c2e187-5c6d-475d-feb1-df5467ae872c"
      },
      "execution_count": 170,
      "outputs": [
        {
          "output_type": "stream",
          "name": "stdout",
          "text": [
            "Model: \"sequential_11\"\n",
            "_________________________________________________________________\n",
            " Layer (type)                Output Shape              Param #   \n",
            "=================================================================\n",
            " flatten_17 (Flatten)        (None, 784)               0         \n",
            "                                                                 \n",
            " dense_75 (Dense)            (None, 64)                50240     \n",
            "                                                                 \n",
            " dense_76 (Dense)            (None, 32)                2080      \n",
            "                                                                 \n",
            " dense_77 (Dense)            (None, 10)                330       \n",
            "                                                                 \n",
            "=================================================================\n",
            "Total params: 52,650\n",
            "Trainable params: 52,650\n",
            "Non-trainable params: 0\n",
            "_________________________________________________________________\n"
          ]
        }
      ]
    },
    {
      "cell_type": "code",
      "source": [
        "model_w_he.compile(optimizer='adam',\n",
        "              loss = 'sparse_categorical_crossentropy',\n",
        "              metrics=['accuracy'])\n",
        "history_w_he = model_w_he.fit(x_train,y_train, validation_data = (x_test, y_test), epochs = 10)"
      ],
      "metadata": {
        "colab": {
          "base_uri": "https://localhost:8080/"
        },
        "id": "1AUoKDD4c_uH",
        "outputId": "e97943a3-4e3f-4972-8fe1-db80ae588043"
      },
      "execution_count": 171,
      "outputs": [
        {
          "output_type": "stream",
          "name": "stdout",
          "text": [
            "Epoch 1/10\n",
            "1875/1875 [==============================] - 8s 4ms/step - loss: 1.5232 - accuracy: 0.7934 - val_loss: 0.4514 - val_accuracy: 0.8859\n",
            "Epoch 2/10\n",
            "1875/1875 [==============================] - 7s 4ms/step - loss: 0.3565 - accuracy: 0.9042 - val_loss: 0.2949 - val_accuracy: 0.9239\n",
            "Epoch 3/10\n",
            "1875/1875 [==============================] - 8s 4ms/step - loss: 0.2428 - accuracy: 0.9338 - val_loss: 0.2167 - val_accuracy: 0.9425\n",
            "Epoch 4/10\n",
            "1875/1875 [==============================] - 7s 4ms/step - loss: 0.1919 - accuracy: 0.9454 - val_loss: 0.1924 - val_accuracy: 0.9479\n",
            "Epoch 5/10\n",
            "1875/1875 [==============================] - 8s 4ms/step - loss: 0.1614 - accuracy: 0.9541 - val_loss: 0.1619 - val_accuracy: 0.9550\n",
            "Epoch 6/10\n",
            "1875/1875 [==============================] - 6s 3ms/step - loss: 0.1394 - accuracy: 0.9604 - val_loss: 0.2084 - val_accuracy: 0.9409\n",
            "Epoch 7/10\n",
            "1875/1875 [==============================] - 8s 4ms/step - loss: 0.1275 - accuracy: 0.9633 - val_loss: 0.1641 - val_accuracy: 0.9574\n",
            "Epoch 8/10\n",
            "1875/1875 [==============================] - 8s 4ms/step - loss: 0.1176 - accuracy: 0.9661 - val_loss: 0.1574 - val_accuracy: 0.9597\n",
            "Epoch 9/10\n",
            "1875/1875 [==============================] - 7s 4ms/step - loss: 0.1126 - accuracy: 0.9679 - val_loss: 0.1821 - val_accuracy: 0.9535\n",
            "Epoch 10/10\n",
            "1875/1875 [==============================] - 8s 4ms/step - loss: 0.1035 - accuracy: 0.9704 - val_loss: 0.1716 - val_accuracy: 0.9593\n"
          ]
        }
      ]
    },
    {
      "cell_type": "code",
      "source": [
        "##두 모델 비교 시각화\n",
        "plt.figure(figsize = (5,3))\n",
        "plt.plot(np.arange(1,11), history.history['val_loss'], color = 'navy', label = 'None')\n",
        "plt.plot(np.arange(1,11), history_w_he.history['val_loss'], color = 'tomato', label = 'He Initialization')\n",
        "plt.title(\"Losses\", fontsize = 20)\n",
        "plt.xlabel('epochs')\n",
        "plt.ylabel(\"Losses\")\n",
        "plt.legend()\n",
        "plt.show"
      ],
      "metadata": {
        "colab": {
          "base_uri": "https://localhost:8080/",
          "height": 359
        },
        "id": "FJcKsHlxd2RX",
        "outputId": "0d05b35f-d5bb-444e-9681-c9107f23423e"
      },
      "execution_count": 172,
      "outputs": [
        {
          "output_type": "execute_result",
          "data": {
            "text/plain": [
              "<function matplotlib.pyplot.show(close=None, block=None)>"
            ]
          },
          "metadata": {},
          "execution_count": 172
        },
        {
          "output_type": "display_data",
          "data": {
            "text/plain": [
              "<Figure size 500x300 with 1 Axes>"
            ],
            "image/png": "[encoded data removed]"
          },
          "metadata": {}
        }
      ]
    },
    {
      "cell_type": "code",
      "source": [
        "###keral_initializer = 'glorot_normal'을 적용한 경우\n",
        "model_w_gl = tf.keras.Sequential([tf.keras.layers.Flatten(input_shape = (28,28)),\n",
        "                             tf.keras.layers.Dense(64, kernel_initializer = 'glorot_normal',activation = 'sigmoid'),\n",
        "                             tf.keras.layers.Dense(32, activation = 'sigmoid'),\n",
        "                             tf.keras.layers.Dense(10, activation = 'softmax')\n",
        "])\n",
        "model_w_gl.summary()"
      ],
      "metadata": {
        "colab": {
          "base_uri": "https://localhost:8080/"
        },
        "id": "LPGtVDwmhYCW",
        "outputId": "15a97330-d9a4-4db7-bbeb-7692781142f8"
      },
      "execution_count": 173,
      "outputs": [
        {
          "output_type": "stream",
          "name": "stdout",
          "text": [
            "Model: \"sequential_12\"\n",
            "_________________________________________________________________\n",
            " Layer (type)                Output Shape              Param #   \n",
            "=================================================================\n",
            " flatten_18 (Flatten)        (None, 784)               0         \n",
            "                                                                 \n",
            " dense_78 (Dense)            (None, 64)                50240     \n",
            "                                                                 \n",
            " dense_79 (Dense)            (None, 32)                2080      \n",
            "                                                                 \n",
            " dense_80 (Dense)            (None, 10)                330       \n",
            "                                                                 \n",
            "=================================================================\n",
            "Total params: 52,650\n",
            "Trainable params: 52,650\n",
            "Non-trainable params: 0\n",
            "_________________________________________________________________\n"
          ]
        }
      ]
    },
    {
      "cell_type": "code",
      "source": [
        "model_w_gl.compile(optimizer='adam',\n",
        "              loss = 'sparse_categorical_crossentropy',\n",
        "              metrics=['accuracy'])\n",
        "history_w_gl = model_w_gl.fit(x_train,y_train, validation_data = (x_test, y_test), epochs = 10)"
      ],
      "metadata": {
        "colab": {
          "base_uri": "https://localhost:8080/"
        },
        "id": "AL-Kpb3zhvaI",
        "outputId": "d6bbe0dd-f9f1-4514-87e7-5fd08eaa2c07"
      },
      "execution_count": 174,
      "outputs": [
        {
          "output_type": "stream",
          "name": "stdout",
          "text": [
            "Epoch 1/10\n",
            "1875/1875 [==============================] - 8s 4ms/step - loss: 0.7570 - accuracy: 0.8136 - val_loss: 0.4431 - val_accuracy: 0.8743\n",
            "Epoch 2/10\n",
            "1875/1875 [==============================] - 7s 4ms/step - loss: 0.4006 - accuracy: 0.8814 - val_loss: 0.3683 - val_accuracy: 0.8853\n",
            "Epoch 3/10\n",
            "1875/1875 [==============================] - 7s 4ms/step - loss: 0.3623 - accuracy: 0.8904 - val_loss: 0.3490 - val_accuracy: 0.8948\n",
            "Epoch 4/10\n",
            "1875/1875 [==============================] - 8s 4ms/step - loss: 0.3449 - accuracy: 0.8942 - val_loss: 0.3167 - val_accuracy: 0.9047\n",
            "Epoch 5/10\n",
            "1875/1875 [==============================] - 7s 4ms/step - loss: 0.3240 - accuracy: 0.9010 - val_loss: 0.3029 - val_accuracy: 0.9075\n",
            "Epoch 6/10\n",
            "1875/1875 [==============================] - 7s 4ms/step - loss: 0.3093 - accuracy: 0.9047 - val_loss: 0.3029 - val_accuracy: 0.9074\n",
            "Epoch 7/10\n",
            "1875/1875 [==============================] - 8s 4ms/step - loss: 0.2943 - accuracy: 0.9101 - val_loss: 0.2713 - val_accuracy: 0.9184\n",
            "Epoch 8/10\n",
            "1875/1875 [==============================] - 7s 4ms/step - loss: 0.2848 - accuracy: 0.9128 - val_loss: 0.2872 - val_accuracy: 0.9149\n",
            "Epoch 9/10\n",
            "1875/1875 [==============================] - 8s 4ms/step - loss: 0.2816 - accuracy: 0.9154 - val_loss: 0.2651 - val_accuracy: 0.9182\n",
            "Epoch 10/10\n",
            "1875/1875 [==============================] - 7s 4ms/step - loss: 0.2628 - accuracy: 0.9217 - val_loss: 0.2501 - val_accuracy: 0.9235\n"
          ]
        }
      ]
    },
    {
      "cell_type": "code",
      "source": [
        "##세개개 모델 비교 시각화\n",
        "plt.figure(figsize = (5,3))\n",
        "plt.plot(np.arange(1,11), history.history['val_loss'], color = 'navy', label = 'None')\n",
        "plt.plot(np.arange(1,11), history_w_he.history['val_loss'], color = 'tomato', label = 'He Initialization')\n",
        "plt.plot(np.arange(1,11), history_w_gl.history['val_loss'], color = 'green', label = 'Xavier Initialization')\n",
        "plt.title(\"Losses\", fontsize = 20)\n",
        "plt.xlabel('epochs')\n",
        "plt.ylabel(\"Losses\")\n",
        "plt.legend()\n",
        "plt.show"
      ],
      "metadata": {
        "colab": {
          "base_uri": "https://localhost:8080/",
          "height": 359
        },
        "id": "3HxbCUjrh_e7",
        "outputId": "7ade688b-ec8e-47cc-ee7d-f624bd3d5f31"
      },
      "execution_count": 175,
      "outputs": [
        {
          "output_type": "execute_result",
          "data": {
            "text/plain": [
              "<function matplotlib.pyplot.show(close=None, block=None)>"
            ]
          },
          "metadata": {},
          "execution_count": 175
        },
        {
          "output_type": "display_data",
          "data": {
            "text/plain": [
              "<Figure size 500x300 with 1 Axes>"
            ],
            "image/png": "[encoded data removed]"
          },
          "metadata": {}
        }
      ]
    },
    {
      "cell_type": "markdown",
      "source": [
        "규제(Regularization)\n",
        "\n",
        "1.   L1: 가중치의 절대값에 0.001을 곱하여 비용 추가, 0.001\n",
        "2.   L2: 가중치의 제곱에 0.001을 곱하여 비용 추가, 0.001\n",
        "\n"
      ],
      "metadata": {
        "id": "Ri-ZmCABjhcD"
      }
    },
    {
      "cell_type": "code",
      "source": [
        "regularizer2 = tf.keras.regularizers.l2(0.001)\n",
        "L2_model = tf.keras.Sequential([\n",
        "    tf.keras.layers.Flatten(input_shape=(28,28)),\n",
        "    tf.keras.layers.Dense(64,kernel_initializer = 'normal', kernel_regularizer2 = regularizer2, activation = 'relu')\n",
        "    tf.keras.layers.Dense(32,kernel_initializer = 'normal', kernel_regularizer2 = regularizer2, activation = 'relu')\n",
        "    tf.keras.layers.Dense(10, activation = 'softmax')\n",
        "])"
      ],
      "metadata": {
        "colab": {
          "base_uri": "https://localhost:8080/",
          "height": 154
        },
        "id": "P-F1xa0Sj1Fa",
        "outputId": "43f0ebbf-eee4-4897-ed18-94baa9da3c03"
      },
      "execution_count": 184,
      "outputs": [
        {
          "output_type": "error",
          "ename": "SyntaxError",
          "evalue": "ignored",
          "traceback": [
            "\u001b[0;36m  File \u001b[0;32m\"<ipython-input-184-c6b7a4aed6ff>\"\u001b[0;36m, line \u001b[0;32m5\u001b[0m\n\u001b[0;31m    tf.keras.layers.Dense(32,kernel_initializer = 'normal', kernel_regularizer2 = regularizer2, activation = 'relu')\u001b[0m\n\u001b[0m    ^\u001b[0m\n\u001b[0;31mSyntaxError\u001b[0m\u001b[0;31m:\u001b[0m invalid syntax\n"
          ]
        }
      ]
    },
    {
      "cell_type": "code",
      "source": [
        "L2_model.compile(optimizer='adam',\n",
        "              loss = 'sparse_categorical_crossentropy',\n",
        "              metrics=['accuracy'])\n",
        "L2_model = L2_model.fit(x_train,y_train, validation_data = (x_test, y_test), epochs = 10)"
      ],
      "metadata": {
        "id": "IzBxMqxdk1CP"
      },
      "execution_count": null,
      "outputs": []
    },
    {
      "cell_type": "code",
      "source": [
        "##검증\n",
        "model.evaluate(x_test,y_test)"
      ],
      "metadata": {
        "colab": {
          "base_uri": "https://localhost:8080/"
        },
        "id": "7ud40XQd535a",
        "outputId": "1c7e6f4c-d168-483e-e17b-3bc0fc72579c"
      },
      "execution_count": 176,
      "outputs": [
        {
          "output_type": "stream",
          "name": "stdout",
          "text": [
            "313/313 [==============================] - 1s 2ms/step - loss: 0.1694 - accuracy: 0.9649\n"
          ]
        },
        {
          "output_type": "execute_result",
          "data": {
            "text/plain": [
              "[0.16940978169441223, 0.964900016784668]"
            ]
          },
          "metadata": {},
          "execution_count": 176
        }
      ]
    },
    {
      "cell_type": "code",
      "source": [
        "##검증결과 저장\n",
        "test_loss, test_acc = model.evaluate(x_test, y_test)\n",
        "\n",
        "print('검증셋 정확도: ', test_acc)"
      ],
      "metadata": {
        "colab": {
          "base_uri": "https://localhost:8080/"
        },
        "id": "vDYCCc0P581D",
        "outputId": "2b76870e-1be7-4a45-ea0c-423c08f1bdfb"
      },
      "execution_count": 177,
      "outputs": [
        {
          "output_type": "stream",
          "name": "stdout",
          "text": [
            "313/313 [==============================] - 1s 2ms/step - loss: 0.1694 - accuracy: 0.9649\n",
            "검증셋 정확도:  0.964900016784668\n"
          ]
        }
      ]
    },
    {
      "cell_type": "code",
      "source": [
        "predictions = model.predict(x_test)\n",
        "predictions[0]"
      ],
      "metadata": {
        "colab": {
          "base_uri": "https://localhost:8080/"
        },
        "id": "JhHn00OH6Mv8",
        "outputId": "aa56e5fb-44f9-4315-a71f-a52ef1e929a0"
      },
      "execution_count": 178,
      "outputs": [
        {
          "output_type": "stream",
          "name": "stdout",
          "text": [
            "313/313 [==============================] - 1s 2ms/step\n"
          ]
        },
        {
          "output_type": "execute_result",
          "data": {
            "text/plain": [
              "array([1.55859131e-16, 3.03547604e-05, 6.17495317e-08, 2.34775769e-07,\n",
              "       1.10693755e-07, 1.43141774e-08, 5.04558543e-18, 9.99660730e-01,\n",
              "       1.88688212e-08, 3.08493851e-04], dtype=float32)"
            ]
          },
          "metadata": {},
          "execution_count": 178
        }
      ]
    },
    {
      "cell_type": "code",
      "source": [
        "predictions[0].max()"
      ],
      "metadata": {
        "colab": {
          "base_uri": "https://localhost:8080/"
        },
        "id": "OFVWfwXt6VrW",
        "outputId": "0fb2102c-c987-4908-b880-e18f686930dc"
      },
      "execution_count": 179,
      "outputs": [
        {
          "output_type": "execute_result",
          "data": {
            "text/plain": [
              "0.99966073"
            ]
          },
          "metadata": {},
          "execution_count": 179
        }
      ]
    },
    {
      "cell_type": "code",
      "source": [
        "np.argmax(predictions[0])"
      ],
      "metadata": {
        "colab": {
          "base_uri": "https://localhost:8080/"
        },
        "id": "6o6NennB6ar-",
        "outputId": "3730ba96-1e54-44a7-b243-333737883e88"
      },
      "execution_count": 180,
      "outputs": [
        {
          "output_type": "execute_result",
          "data": {
            "text/plain": [
              "7"
            ]
          },
          "metadata": {},
          "execution_count": 180
        }
      ]
    },
    {
      "cell_type": "code",
      "source": [
        "def get_one_result(idx):\n",
        "    img, y_true, y_pred, confidence = x_test[idx], y_test[idx],np.argmax(predictions[idx]), 100*np.max(predictions[idx])\n",
        "    return img,y_true,y_pred,confidence"
      ],
      "metadata": {
        "id": "Sxzsxk237nOl"
      },
      "execution_count": 181,
      "outputs": []
    },
    {
      "cell_type": "code",
      "source": [
        "fig,axes = plt.subplots(3,5)\n",
        "fig.set_size_inches(12,10)\n",
        "\n",
        "for i in range(15):\n",
        "    ax = axes[i//5, i%5]\n",
        "    img, y_true, y_pred, confidence = get_one_result(i)\n",
        "    ax.imshow(x_train[i], cmap = 'gray')\n",
        "    #x,y축 눈금\n",
        "    ax.set_xticks([])\n",
        "    ax.set_yticks([])\n",
        "    ax.set_title(f'True : {y_true}', fontsize=12)\n",
        "    ax.set_xlabel(f'Prediction : {y_pred}\\nContidence :( {confidence:.2f}%)',fontsize = 10)\n",
        "plt.tight_layout()\n",
        "plt.show()"
      ],
      "metadata": {
        "colab": {
          "base_uri": "https://localhost:8080/",
          "height": 532
        },
        "id": "Zav1oJjl8Dri",
        "outputId": "7fb93e67-683f-4d3c-dd3d-01f49b14a391"
      },
      "execution_count": 182,
      "outputs": [
        {
          "output_type": "display_data",
          "data": {
            "text/plain": [
              "<Figure size 1200x1000 with 15 Axes>"
            ],
            "image/png": "[encoded data removed]"
          },
          "metadata": {}
        }
      ]
    }
  ]
}